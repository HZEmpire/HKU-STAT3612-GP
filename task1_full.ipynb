{
 "cells": [
  {
   "cell_type": "markdown",
   "metadata": {},
   "source": [
    "## Selecting feature for 2 times\n",
    "### Author: Xu Haozhou\n",
    "    - Due to the difference on random seed, you may need to try different random seed to get the best answer\n",
    "    - The settings for the parameters in this file may not be the most suitable, you still need to do some adjustment."
   ]
  },
  {
   "cell_type": "code",
   "execution_count": 176,
   "metadata": {},
   "outputs": [],
   "source": [
    "import pandas as pd\n",
    "import numpy as np\n",
    "import matplotlib.pyplot as plt\n",
    "import seaborn as sns\n",
    "import os\n",
    "import warnings\n",
    "import sklearn\n",
    "import scipy as sp\n",
    "import statsmodels as sm\n",
    "import statsmodels.api as sm\n",
    "import statsmodels.formula.api as smf\n",
    "import statsmodels.stats.api as sms\n",
    "import torch as t\n",
    "import torch.nn as nn\n",
    "import torch.nn.functional as F\n",
    "import torch.optim as optim\n",
    "import torch.utils.data as data\n",
    "import torchvision as tv\n",
    "import torchvision.transforms as transforms\n",
    "import torchvision.datasets as datasets\n",
    "import torchvision.models as models\n",
    "import torchvision.utils as vutils\n",
    "from sklearn.ensemble import GradientBoostingClassifier\n",
    "from sklearn.metrics import roc_auc_score\n",
    "from sklearn.metrics import roc_curve\n",
    "from sklearn.metrics import auc \n",
    "from sklearn.metrics import confusion_matrix\n",
    "from sklearn.metrics import classification_report\n",
    "from sklearn.metrics import accuracy_score\n",
    "from sklearn.metrics import precision_score\n",
    "from sklearn.metrics import recall_score\n",
    "from sklearn.metrics import f1_score\n",
    "from sklearn.metrics import precision_recall_curve\n",
    "from sklearn.metrics import average_precision_score\n",
    "from sklearn.metrics import log_loss\n",
    "from sklearn.metrics import brier_score_loss"
   ]
  },
  {
   "cell_type": "markdown",
   "metadata": {},
   "source": [
    "## Preparation"
   ]
  },
  {
   "cell_type": "code",
   "execution_count": 177,
   "metadata": {},
   "outputs": [],
   "source": [
    "# Data are sorted in ./SuperData\n",
    "Train_DataX = pd.read_csv(\"./SuperData/X_train.csv\", index_col=[0], header=[0, 1, 2])\n",
    "Valid_DataX = pd.read_csv(\"./SuperData/X_valid.csv\", index_col=[0], header=[0, 1, 2])\n",
    "Test_DataX = pd.read_csv('./SuperData/X_test.csv', header=[0,1,2], index_col=0)\n",
    "Train_DataY = pd.read_csv(\"./task1/Y_train.csv\", index_col=[0], header=[0])\n",
    "Valid_DataY = pd.read_csv(\"./task1/Y_valid.csv\", index_col=[0], header=[0])"
   ]
  },
  {
   "cell_type": "code",
   "execution_count": 178,
   "metadata": {},
   "outputs": [],
   "source": [
    "# Fill the missing values\n",
    "Train_DataX.fillna(0, inplace=True)\n",
    "Valid_DataX.fillna(0, inplace=True)\n",
    "Test_DataX.fillna(0, inplace=True)\n",
    "\n",
    "# Get used columns\n",
    "column_names = Train_DataX.columns\n",
    "X_Train = Train_DataX[column_names]\n",
    "X_valid = Valid_DataX[column_names]\n",
    "X_Test = Test_DataX[column_names]"
   ]
  },
  {
   "cell_type": "code",
   "execution_count": 179,
   "metadata": {},
   "outputs": [
    {
     "data": {
      "text/plain": [
       "(16760, 7904)"
      ]
     },
     "execution_count": 179,
     "metadata": {},
     "output_type": "execute_result"
    }
   ],
   "source": [
    "# Show size of Train_DataX\n",
    "X_Train.shape"
   ]
  },
  {
   "cell_type": "code",
   "execution_count": 180,
   "metadata": {},
   "outputs": [],
   "source": [
    "# Shuffle the train data let Y = 0 and Y = 1 have 1:3 ratio\n",
    "X_Train_0 = X_Train[Train_DataY[\"mort_icu\"] == 0]\n",
    "Y_Train_0 = Train_DataY[Train_DataY[\"mort_icu\"] == 0]\n",
    "X_Train_1 = X_Train[Train_DataY[\"mort_icu\"] == 1]\n",
    "Y_Train_1 = Train_DataY[Train_DataY[\"mort_icu\"] == 1]\n",
    "\n",
    "from sklearn.utils import shuffle\n",
    "np.random.seed(1234)\n",
    "\n",
    "X_Train_0, Y_Train_0 = shuffle(X_Train_0, Y_Train_0)\n",
    "X_Train_0_use = X_Train_0[:int(len(X_Train_1)*3)]\n",
    "Y_Train_0_use = Y_Train_0[:int(len(Y_Train_1)*3)]\n",
    "X_Train_f = np.concatenate((X_Train_0_use, X_Train_1), axis=0)\n",
    "Y_Train_f = np.concatenate((Y_Train_0_use, Y_Train_1), axis=0)"
   ]
  },
  {
   "cell_type": "code",
   "execution_count": 181,
   "metadata": {},
   "outputs": [],
   "source": [
    "# Change each to numpy array\n",
    "X_train = X_Train_f\n",
    "X_valid = Valid_DataX.to_numpy()\n",
    "X_test = X_Test.to_numpy()\n",
    "Y_train = Y_Train_f\n",
    "Y_valid = Valid_DataY.to_numpy()"
   ]
  },
  {
   "cell_type": "code",
   "execution_count": 182,
   "metadata": {},
   "outputs": [
    {
     "data": {
      "text/plain": [
       "(4900, 7904)"
      ]
     },
     "execution_count": 182,
     "metadata": {},
     "output_type": "execute_result"
    }
   ],
   "source": [
    "X_train.shape"
   ]
  },
  {
   "cell_type": "code",
   "execution_count": 183,
   "metadata": {},
   "outputs": [],
   "source": [
    "Y_train = Y_train.ravel()\n",
    "Y_valid = Y_valid.ravel()"
   ]
  },
  {
   "cell_type": "markdown",
   "metadata": {},
   "source": [
    "## Step1"
   ]
  },
  {
   "cell_type": "code",
   "execution_count": 184,
   "metadata": {},
   "outputs": [],
   "source": [
    "# Train X_train and Y_train by Ensemble model on the skewed data\n",
    "from sklearn.ensemble import VotingClassifier\n",
    "# GradientBoostingClassifier\n",
    "from sklearn.ensemble import GradientBoostingClassifier\n",
    "# HistGradientBoostingClassifier\n",
    "from sklearn.ensemble import HistGradientBoostingClassifier\n",
    "# XGBoost\n",
    "import xgboost as xgb"
   ]
  },
  {
   "cell_type": "code",
   "execution_count": 185,
   "metadata": {},
   "outputs": [
    {
     "name": "stdout",
     "output_type": "stream",
     "text": [
      "Accuracy:  0.9256474519632414\n",
      "Precision:  0.4368932038834951\n",
      "Recall:  0.5921052631578947\n",
      "AUC:  0.9120733367763745\n"
     ]
    }
   ],
   "source": [
    "model = xgb.XGBClassifier(n_estimators=300, max_depth=6, min_child_weight=3, learning_rate=0.04, subsample=0.6, colsample_bytree=1, random_state=3612, eval_metric='auc', n_jobs=5)\n",
    "model.fit(X_train, Y_train)\n",
    "\n",
    "# Valid by X_valid and Y_valid\n",
    "Y_valid_pred = model.predict(X_valid)\n",
    "print(\"Accuracy: \", accuracy_score(Y_valid, Y_valid_pred))\n",
    "print(\"Precision: \", precision_score(Y_valid, Y_valid_pred))\n",
    "print(\"Recall: \", recall_score(Y_valid, Y_valid_pred))\n",
    "\n",
    "Y_valid_prob = model.predict_proba(X_valid)[:,1]\n",
    "print(\"AUC: \", roc_auc_score(Y_valid, Y_valid_prob))"
   ]
  },
  {
   "cell_type": "code",
   "execution_count": 186,
   "metadata": {},
   "outputs": [],
   "source": [
    "importance = model.feature_importances_\n",
    "# Construct a dataframe to show the importance of each feature\n",
    "importance_df = pd.DataFrame(columns=column_names, data=[importance])"
   ]
  },
  {
   "cell_type": "code",
   "execution_count": 187,
   "metadata": {},
   "outputs": [
    {
     "data": {
      "image/png": "[encoded data removed]",
      "text/plain": [
       "<Figure size 2000x1000 with 1 Axes>"
      ]
     },
     "metadata": {},
     "output_type": "display_data"
    }
   ],
   "source": [
    "# Importance graph\n",
    "x_axis = range(len(importance))\n",
    "plt.figure(figsize=(20, 10))\n",
    "plt.bar(x_axis, importance_df.iloc[0])\n",
    "plt.show()"
   ]
  },
  {
   "cell_type": "code",
   "execution_count": 188,
   "metadata": {},
   "outputs": [
    {
     "data": {
      "text/plain": [
       "(2324,)"
      ]
     },
     "execution_count": 188,
     "metadata": {},
     "output_type": "execute_result"
    }
   ],
   "source": [
    "truetable_data1 = importance_df.values > np.mean(importance_df.values)\n",
    "getcolumn = importance_df.columns[truetable_data1[0]]\n",
    "importance_df.loc[:, getcolumn].to_csv(\"./T1feature/1-3-1_mean.csv\", header=True)\n",
    "getcolumn.shape"
   ]
  },
  {
   "cell_type": "code",
   "execution_count": 189,
   "metadata": {},
   "outputs": [
    {
     "data": {
      "text/html": [
       "<div>\n",
       "<style scoped>\n",
       "    .dataframe tbody tr th:only-of-type {\n",
       "        vertical-align: middle;\n",
       "    }\n",
       "\n",
       "    .dataframe tbody tr th {\n",
       "        vertical-align: top;\n",
       "    }\n",
       "\n",
       "    .dataframe thead tr th {\n",
       "        text-align: left;\n",
       "    }\n",
       "</style>\n",
       "<table border=\"1\" class=\"dataframe\">\n",
       "  <thead>\n",
       "    <tr>\n",
       "      <th>LEVEL2</th>\n",
       "      <th colspan=\"10\" halign=\"left\">alanine aminotransferase</th>\n",
       "      <th>...</th>\n",
       "      <th colspan=\"10\" halign=\"left\">white blood cell count urine</th>\n",
       "    </tr>\n",
       "    <tr>\n",
       "      <th>Aggregation Function</th>\n",
       "      <th colspan=\"10\" halign=\"left\">mean</th>\n",
       "      <th>...</th>\n",
       "      <th colspan=\"10\" halign=\"left\">time_since_measured</th>\n",
       "    </tr>\n",
       "    <tr>\n",
       "      <th>hours_in</th>\n",
       "      <th>0</th>\n",
       "      <th>3</th>\n",
       "      <th>9</th>\n",
       "      <th>11</th>\n",
       "      <th>13</th>\n",
       "      <th>16</th>\n",
       "      <th>17</th>\n",
       "      <th>18</th>\n",
       "      <th>21</th>\n",
       "      <th>diff</th>\n",
       "      <th>...</th>\n",
       "      <th>10</th>\n",
       "      <th>11</th>\n",
       "      <th>12</th>\n",
       "      <th>13</th>\n",
       "      <th>14</th>\n",
       "      <th>18</th>\n",
       "      <th>19</th>\n",
       "      <th>20</th>\n",
       "      <th>22</th>\n",
       "      <th>diff</th>\n",
       "    </tr>\n",
       "  </thead>\n",
       "  <tbody>\n",
       "    <tr>\n",
       "      <th>0</th>\n",
       "      <td>0.000256</td>\n",
       "      <td>0.00029</td>\n",
       "      <td>0.000294</td>\n",
       "      <td>0.000145</td>\n",
       "      <td>0.000206</td>\n",
       "      <td>0.000387</td>\n",
       "      <td>0.000279</td>\n",
       "      <td>0.000247</td>\n",
       "      <td>0.000727</td>\n",
       "      <td>0.000586</td>\n",
       "      <td>...</td>\n",
       "      <td>0.000355</td>\n",
       "      <td>0.000137</td>\n",
       "      <td>0.000254</td>\n",
       "      <td>0.000345</td>\n",
       "      <td>0.000233</td>\n",
       "      <td>0.00025</td>\n",
       "      <td>0.000593</td>\n",
       "      <td>0.000635</td>\n",
       "      <td>0.000637</td>\n",
       "      <td>0.00018</td>\n",
       "    </tr>\n",
       "  </tbody>\n",
       "</table>\n",
       "<p>1 rows × 2324 columns</p>\n",
       "</div>"
      ],
      "text/plain": [
       "LEVEL2               alanine aminotransferase                               \\\n",
       "Aggregation Function                     mean                                \n",
       "hours_in                                    0        3         9        11   \n",
       "0                                    0.000256  0.00029  0.000294  0.000145   \n",
       "\n",
       "LEVEL2                                                                  \\\n",
       "Aggregation Function                                                     \n",
       "hours_in                    13        16        17        18        21   \n",
       "0                     0.000206  0.000387  0.000279  0.000247  0.000727   \n",
       "\n",
       "LEVEL2                          ... white blood cell count urine            \\\n",
       "Aggregation Function            ...          time_since_measured             \n",
       "hours_in                  diff  ...                           10        11   \n",
       "0                     0.000586  ...                     0.000355  0.000137   \n",
       "\n",
       "LEVEL2                                                                 \\\n",
       "Aggregation Function                                                    \n",
       "hours_in                    12        13        14       18        19   \n",
       "0                     0.000254  0.000345  0.000233  0.00025  0.000593   \n",
       "\n",
       "LEVEL2                                             \n",
       "Aggregation Function                               \n",
       "hours_in                    20        22     diff  \n",
       "0                     0.000635  0.000637  0.00018  \n",
       "\n",
       "[1 rows x 2324 columns]"
      ]
     },
     "execution_count": 189,
     "metadata": {},
     "output_type": "execute_result"
    }
   ],
   "source": [
    "importance_df.loc[:, getcolumn]"
   ]
  },
  {
   "cell_type": "markdown",
   "metadata": {},
   "source": [
    "## Step 2"
   ]
  },
  {
   "cell_type": "code",
   "execution_count": 190,
   "metadata": {},
   "outputs": [],
   "source": [
    "X_train = Train_DataX[getcolumn]\n",
    "X_valid = Valid_DataX[getcolumn]\n",
    "X_test = Test_DataX[getcolumn]\n",
    "\n",
    "# Shuffle the train data let Y = 0 and Y = 1 have 1:3 ratio\n",
    "X_Train_0 = X_train[Train_DataY[\"mort_icu\"] == 0]\n",
    "Y_Train_0 = Train_DataY[Train_DataY[\"mort_icu\"] == 0]\n",
    "X_Train_1 = X_train[Train_DataY[\"mort_icu\"] == 1]\n",
    "Y_Train_1 = Train_DataY[Train_DataY[\"mort_icu\"] == 1]\n",
    "\n",
    "from sklearn.utils import shuffle\n",
    "np.random.seed(1234)\n",
    "\n",
    "X_Train_0, Y_Train_0 = shuffle(X_Train_0, Y_Train_0)\n",
    "X_Train_0_use = X_Train_0[:int(len(X_Train_1)*3)]\n",
    "Y_Train_0_use = Y_Train_0[:int(len(Y_Train_1)*3)]\n",
    "X_Train_f = np.concatenate((X_Train_0_use, X_Train_1), axis=0)\n",
    "Y_Train_f = np.concatenate((Y_Train_0_use, Y_Train_1), axis=0)\n",
    "\n",
    "# Change each to numpy array\n",
    "X_train = X_Train_f\n",
    "X_valid = X_valid.to_numpy()\n",
    "X_test = X_test.to_numpy()\n",
    "Y_train = Y_Train_f\n",
    "Y_valid = Valid_DataY.to_numpy().ravel()"
   ]
  },
  {
   "cell_type": "code",
   "execution_count": 191,
   "metadata": {},
   "outputs": [
    {
     "data": {
      "text/plain": [
       "(4900, 2324)"
      ]
     },
     "execution_count": 191,
     "metadata": {},
     "output_type": "execute_result"
    }
   ],
   "source": [
    "X_train.shape"
   ]
  },
  {
   "cell_type": "code",
   "execution_count": 192,
   "metadata": {},
   "outputs": [
    {
     "name": "stdout",
     "output_type": "stream",
     "text": [
      "Accuracy:  0.9202172096908939\n",
      "Precision:  0.41333333333333333\n",
      "Recall:  0.6118421052631579\n",
      "AUC:  0.9101777078736091\n"
     ]
    }
   ],
   "source": [
    "model = xgb.XGBClassifier(n_estimators=1000, max_depth=6, min_child_weight=3, learning_rate=0.04, subsample=0.6, colsample_bytree=1, random_state=3612, eval_metric='auc', n_jobs=5)\n",
    "model.fit(X_train, Y_train)\n",
    "\n",
    "# Valid by X_valid and Y_valid\n",
    "Y_valid_pred = model.predict(X_valid)\n",
    "print(\"Accuracy: \", accuracy_score(Y_valid, Y_valid_pred))\n",
    "print(\"Precision: \", precision_score(Y_valid, Y_valid_pred))\n",
    "print(\"Recall: \", recall_score(Y_valid, Y_valid_pred))\n",
    "\n",
    "Y_valid_prob = model.predict_proba(X_valid)[:,1]\n",
    "print(\"AUC: \", roc_auc_score(Y_valid, Y_valid_prob))"
   ]
  },
  {
   "cell_type": "code",
   "execution_count": 193,
   "metadata": {},
   "outputs": [],
   "source": [
    "importance = model.feature_importances_\n",
    "# Construct a dataframe to show the importance of each feature\n",
    "importance_df = pd.DataFrame(columns=getcolumn, data=[importance])"
   ]
  },
  {
   "cell_type": "code",
   "execution_count": 194,
   "metadata": {},
   "outputs": [
    {
     "data": {
      "text/plain": [
       "(794,)"
      ]
     },
     "execution_count": 194,
     "metadata": {},
     "output_type": "execute_result"
    }
   ],
   "source": [
    "truetable_data1 = importance_df.values > np.mean(importance_df.values)\n",
    "getcolumn = importance_df.columns[truetable_data1[0]]\n",
    "importance_df.loc[:, getcolumn].to_csv(\"./T1feature/1-3-2_mean.csv\", header=True)\n",
    "getcolumn.shape"
   ]
  },
  {
   "cell_type": "code",
   "execution_count": 195,
   "metadata": {},
   "outputs": [
    {
     "data": {
      "text/html": [
       "<div>\n",
       "<style scoped>\n",
       "    .dataframe tbody tr th:only-of-type {\n",
       "        vertical-align: middle;\n",
       "    }\n",
       "\n",
       "    .dataframe tbody tr th {\n",
       "        vertical-align: top;\n",
       "    }\n",
       "\n",
       "    .dataframe thead tr th {\n",
       "        text-align: left;\n",
       "    }\n",
       "</style>\n",
       "<table border=\"1\" class=\"dataframe\">\n",
       "  <thead>\n",
       "    <tr>\n",
       "      <th>LEVEL2</th>\n",
       "      <th colspan=\"10\" halign=\"left\">alanine aminotransferase</th>\n",
       "      <th>...</th>\n",
       "      <th colspan=\"5\" halign=\"left\">white blood cell count</th>\n",
       "      <th colspan=\"5\" halign=\"left\">white blood cell count urine</th>\n",
       "    </tr>\n",
       "    <tr>\n",
       "      <th>Aggregation Function</th>\n",
       "      <th colspan=\"5\" halign=\"left\">mean</th>\n",
       "      <th colspan=\"5\" halign=\"left\">time_since_measured</th>\n",
       "      <th>...</th>\n",
       "      <th colspan=\"3\" halign=\"left\">mean</th>\n",
       "      <th colspan=\"2\" halign=\"left\">time_since_measured</th>\n",
       "      <th colspan=\"5\" halign=\"left\">time_since_measured</th>\n",
       "    </tr>\n",
       "    <tr>\n",
       "      <th>hours_in</th>\n",
       "      <th>11</th>\n",
       "      <th>13</th>\n",
       "      <th>17</th>\n",
       "      <th>21</th>\n",
       "      <th>diff</th>\n",
       "      <th>11</th>\n",
       "      <th>13</th>\n",
       "      <th>14</th>\n",
       "      <th>15</th>\n",
       "      <th>17</th>\n",
       "      <th>...</th>\n",
       "      <th>19</th>\n",
       "      <th>20</th>\n",
       "      <th>21</th>\n",
       "      <th>8</th>\n",
       "      <th>10</th>\n",
       "      <th>8</th>\n",
       "      <th>19</th>\n",
       "      <th>20</th>\n",
       "      <th>22</th>\n",
       "      <th>diff</th>\n",
       "    </tr>\n",
       "  </thead>\n",
       "  <tbody>\n",
       "    <tr>\n",
       "      <th>0</th>\n",
       "      <td>0.000622</td>\n",
       "      <td>0.000581</td>\n",
       "      <td>0.000485</td>\n",
       "      <td>0.000956</td>\n",
       "      <td>0.000569</td>\n",
       "      <td>0.000659</td>\n",
       "      <td>0.000611</td>\n",
       "      <td>0.000619</td>\n",
       "      <td>0.000707</td>\n",
       "      <td>0.000435</td>\n",
       "      <td>...</td>\n",
       "      <td>0.000444</td>\n",
       "      <td>0.000656</td>\n",
       "      <td>0.00045</td>\n",
       "      <td>0.000572</td>\n",
       "      <td>0.000493</td>\n",
       "      <td>0.000811</td>\n",
       "      <td>0.000527</td>\n",
       "      <td>0.001281</td>\n",
       "      <td>0.000462</td>\n",
       "      <td>0.001496</td>\n",
       "    </tr>\n",
       "  </tbody>\n",
       "</table>\n",
       "<p>1 rows × 794 columns</p>\n",
       "</div>"
      ],
      "text/plain": [
       "LEVEL2               alanine aminotransferase                                \\\n",
       "Aggregation Function                     mean                                 \n",
       "hours_in                                   11        13        17        21   \n",
       "0                                    0.000622  0.000581  0.000485  0.000956   \n",
       "\n",
       "LEVEL2                                                                  \\\n",
       "Aggregation Function           time_since_measured                       \n",
       "hours_in                  diff                  11        13        14   \n",
       "0                     0.000569            0.000659  0.000611  0.000619   \n",
       "\n",
       "LEVEL2                                    ... white blood cell count  \\\n",
       "Aggregation Function                      ...                   mean   \n",
       "hours_in                    15        17  ...                     19   \n",
       "0                     0.000707  0.000435  ...               0.000444   \n",
       "\n",
       "LEVEL2                                                                 \\\n",
       "Aggregation Function                    time_since_measured             \n",
       "hours_in                    20       21                   8        10   \n",
       "0                     0.000656  0.00045            0.000572  0.000493   \n",
       "\n",
       "LEVEL2               white blood cell count urine                      \\\n",
       "Aggregation Function          time_since_measured                       \n",
       "hours_in                                        8        19        20   \n",
       "0                                        0.000811  0.000527  0.001281   \n",
       "\n",
       "LEVEL2                                    \n",
       "Aggregation Function                      \n",
       "hours_in                    22      diff  \n",
       "0                     0.000462  0.001496  \n",
       "\n",
       "[1 rows x 794 columns]"
      ]
     },
     "execution_count": 195,
     "metadata": {},
     "output_type": "execute_result"
    }
   ],
   "source": [
    "importance_df.loc[:, getcolumn]"
   ]
  },
  {
   "cell_type": "markdown",
   "metadata": {},
   "source": [
    "## Step 3"
   ]
  },
  {
   "cell_type": "code",
   "execution_count": 196,
   "metadata": {},
   "outputs": [],
   "source": [
    "X_train = Train_DataX[getcolumn]\n",
    "X_valid = Valid_DataX[getcolumn]\n",
    "X_test = Test_DataX[getcolumn]\n",
    "\n",
    "# Shuffle the train data let Y = 0 and Y = 1 have 1:3 ratio\n",
    "X_Train_0 = X_train[Train_DataY[\"mort_icu\"] == 0]\n",
    "Y_Train_0 = Train_DataY[Train_DataY[\"mort_icu\"] == 0]\n",
    "X_Train_1 = X_train[Train_DataY[\"mort_icu\"] == 1]\n",
    "Y_Train_1 = Train_DataY[Train_DataY[\"mort_icu\"] == 1]\n",
    "\n",
    "from sklearn.utils import shuffle\n",
    "np.random.seed(1234)\n",
    "\n",
    "X_Train_0, Y_Train_0 = shuffle(X_Train_0, Y_Train_0)\n",
    "X_Train_0_use = X_Train_0[:int(len(X_Train_1)*3)]\n",
    "Y_Train_0_use = Y_Train_0[:int(len(Y_Train_1)*3)]\n",
    "X_Train_f = np.concatenate((X_Train_0_use, X_Train_1), axis=0)\n",
    "Y_Train_f = np.concatenate((Y_Train_0_use, Y_Train_1), axis=0)\n",
    "\n",
    "# Change each to numpy array\n",
    "X_train = X_Train_f\n",
    "X_valid = X_valid.to_numpy()\n",
    "X_test = X_test.to_numpy()\n",
    "Y_train = Y_Train_f\n",
    "Y_valid = Valid_DataY.to_numpy().ravel()"
   ]
  },
  {
   "cell_type": "code",
   "execution_count": 197,
   "metadata": {},
   "outputs": [
    {
     "data": {
      "text/plain": [
       "(4900, 794)"
      ]
     },
     "execution_count": 197,
     "metadata": {},
     "output_type": "execute_result"
    }
   ],
   "source": [
    "X_train.shape"
   ]
  },
  {
   "cell_type": "code",
   "execution_count": 198,
   "metadata": {},
   "outputs": [
    {
     "name": "stdout",
     "output_type": "stream",
     "text": [
      "Accuracy:  0.9214703425229741\n",
      "Precision:  0.4189189189189189\n",
      "Recall:  0.6118421052631579\n",
      "AUC:  0.9087926663223626\n"
     ]
    }
   ],
   "source": [
    "model = xgb.XGBClassifier(n_estimators=1000, max_depth=6, min_child_weight=3, learning_rate=0.04, subsample=0.6, colsample_bytree=1, random_state=3612, eval_metric='auc', n_jobs=5)\n",
    "model.fit(X_train, Y_train)\n",
    "\n",
    "# Valid by X_valid and Y_valid\n",
    "Y_valid_pred = model.predict(X_valid)\n",
    "print(\"Accuracy: \", accuracy_score(Y_valid, Y_valid_pred))\n",
    "print(\"Precision: \", precision_score(Y_valid, Y_valid_pred))\n",
    "print(\"Recall: \", recall_score(Y_valid, Y_valid_pred))\n",
    "\n",
    "Y_valid_prob = model.predict_proba(X_valid)[:,1]\n",
    "print(\"AUC: \", roc_auc_score(Y_valid, Y_valid_prob))"
   ]
  },
  {
   "cell_type": "code",
   "execution_count": 199,
   "metadata": {},
   "outputs": [],
   "source": [
    "importance = model.feature_importances_\n",
    "# Construct a dataframe to show the importance of each feature\n",
    "importance_df = pd.DataFrame(columns=getcolumn, data=[importance])"
   ]
  },
  {
   "cell_type": "code",
   "execution_count": 200,
   "metadata": {},
   "outputs": [
    {
     "data": {
      "text/plain": [
       "(249,)"
      ]
     },
     "execution_count": 200,
     "metadata": {},
     "output_type": "execute_result"
    }
   ],
   "source": [
    "truetable_data1 = importance_df.values > np.mean(importance_df.values)\n",
    "getcolumn = importance_df.columns[truetable_data1[0]]\n",
    "importance_df.loc[:, getcolumn].to_csv(\"./T1feature/1-3-3_mean.csv\", header=True)\n",
    "getcolumn.shape"
   ]
  },
  {
   "cell_type": "code",
   "execution_count": 201,
   "metadata": {},
   "outputs": [
    {
     "data": {
      "text/html": [
       "<div>\n",
       "<style scoped>\n",
       "    .dataframe tbody tr th:only-of-type {\n",
       "        vertical-align: middle;\n",
       "    }\n",
       "\n",
       "    .dataframe tbody tr th {\n",
       "        vertical-align: top;\n",
       "    }\n",
       "\n",
       "    .dataframe thead tr th {\n",
       "        text-align: left;\n",
       "    }\n",
       "</style>\n",
       "<table border=\"1\" class=\"dataframe\">\n",
       "  <thead>\n",
       "    <tr>\n",
       "      <th>LEVEL2</th>\n",
       "      <th colspan=\"4\" halign=\"left\">alanine aminotransferase</th>\n",
       "      <th colspan=\"6\" halign=\"left\">albumin</th>\n",
       "      <th>...</th>\n",
       "      <th colspan=\"3\" halign=\"left\">tidal volume set</th>\n",
       "      <th>tidal volume spontaneous</th>\n",
       "      <th>total protein</th>\n",
       "      <th colspan=\"5\" halign=\"left\">weight</th>\n",
       "    </tr>\n",
       "    <tr>\n",
       "      <th>Aggregation Function</th>\n",
       "      <th>mean</th>\n",
       "      <th colspan=\"3\" halign=\"left\">time_since_measured</th>\n",
       "      <th colspan=\"6\" halign=\"left\">mean</th>\n",
       "      <th>...</th>\n",
       "      <th colspan=\"2\" halign=\"left\">mean</th>\n",
       "      <th>time_since_measured</th>\n",
       "      <th>mean</th>\n",
       "      <th>time_since_measured</th>\n",
       "      <th colspan=\"4\" halign=\"left\">mean</th>\n",
       "      <th>time_since_measured</th>\n",
       "    </tr>\n",
       "    <tr>\n",
       "      <th>hours_in</th>\n",
       "      <th>diff</th>\n",
       "      <th>15</th>\n",
       "      <th>17</th>\n",
       "      <th>diff</th>\n",
       "      <th>0</th>\n",
       "      <th>1</th>\n",
       "      <th>2</th>\n",
       "      <th>8</th>\n",
       "      <th>9</th>\n",
       "      <th>10</th>\n",
       "      <th>...</th>\n",
       "      <th>9</th>\n",
       "      <th>18</th>\n",
       "      <th>14</th>\n",
       "      <th>12</th>\n",
       "      <th>10</th>\n",
       "      <th>0</th>\n",
       "      <th>1</th>\n",
       "      <th>22</th>\n",
       "      <th>23</th>\n",
       "      <th>12</th>\n",
       "    </tr>\n",
       "  </thead>\n",
       "  <tbody>\n",
       "    <tr>\n",
       "      <th>0</th>\n",
       "      <td>0.001359</td>\n",
       "      <td>0.001903</td>\n",
       "      <td>0.001768</td>\n",
       "      <td>0.001552</td>\n",
       "      <td>0.0016</td>\n",
       "      <td>0.001261</td>\n",
       "      <td>0.00126</td>\n",
       "      <td>0.001554</td>\n",
       "      <td>0.001927</td>\n",
       "      <td>0.001325</td>\n",
       "      <td>...</td>\n",
       "      <td>0.006342</td>\n",
       "      <td>0.001646</td>\n",
       "      <td>0.001664</td>\n",
       "      <td>0.001298</td>\n",
       "      <td>0.001699</td>\n",
       "      <td>0.001537</td>\n",
       "      <td>0.001363</td>\n",
       "      <td>0.00168</td>\n",
       "      <td>0.001504</td>\n",
       "      <td>0.001396</td>\n",
       "    </tr>\n",
       "  </tbody>\n",
       "</table>\n",
       "<p>1 rows × 249 columns</p>\n",
       "</div>"
      ],
      "text/plain": [
       "LEVEL2               alanine aminotransferase                                \\\n",
       "Aggregation Function                     mean time_since_measured             \n",
       "hours_in                                 diff                  15        17   \n",
       "0                                    0.001359            0.001903  0.001768   \n",
       "\n",
       "LEVEL2                         albumin                                         \\\n",
       "Aggregation Function              mean                                          \n",
       "hours_in                  diff       0         1        2         8         9   \n",
       "0                     0.001552  0.0016  0.001261  0.00126  0.001554  0.001927   \n",
       "\n",
       "LEVEL2                          ... tidal volume set            \\\n",
       "Aggregation Function            ...             mean             \n",
       "hours_in                    10  ...                9        18   \n",
       "0                     0.001325  ...         0.006342  0.001646   \n",
       "\n",
       "LEVEL2                                   tidal volume spontaneous  \\\n",
       "Aggregation Function time_since_measured                     mean   \n",
       "hours_in                              14                       12   \n",
       "0                               0.001664                 0.001298   \n",
       "\n",
       "LEVEL2                     total protein    weight                     \\\n",
       "Aggregation Function time_since_measured      mean                      \n",
       "hours_in                              10         0         1       22   \n",
       "0                               0.001699  0.001537  0.001363  0.00168   \n",
       "\n",
       "LEVEL2                                              \n",
       "Aggregation Function           time_since_measured  \n",
       "hours_in                    23                  12  \n",
       "0                     0.001504            0.001396  \n",
       "\n",
       "[1 rows x 249 columns]"
      ]
     },
     "execution_count": 201,
     "metadata": {},
     "output_type": "execute_result"
    }
   ],
   "source": [
    "importance_df.loc[:, getcolumn]"
   ]
  },
  {
   "cell_type": "markdown",
   "metadata": {},
   "source": [
    "## Result"
   ]
  },
  {
   "cell_type": "code",
   "execution_count": 202,
   "metadata": {},
   "outputs": [
    {
     "data": {
      "text/plain": [
       "array([0, 1, 0, ..., 1, 0, 0])"
      ]
     },
     "execution_count": 202,
     "metadata": {},
     "output_type": "execute_result"
    }
   ],
   "source": [
    "Y_valid_pred"
   ]
  },
  {
   "cell_type": "code",
   "execution_count": 203,
   "metadata": {},
   "outputs": [
    {
     "name": "stdout",
     "output_type": "stream",
     "text": [
      "Y_valid_pred has 222 1s\n"
     ]
    }
   ],
   "source": [
    "# Count number of 1 in Y_valid_pred\n",
    "print(\"Y_valid_pred has\", sum(Y_valid_pred), \"1s\")"
   ]
  },
  {
   "cell_type": "code",
   "execution_count": 204,
   "metadata": {},
   "outputs": [
    {
     "data": {
      "text/plain": [
       "array([0, 0, 0, ..., 1, 0, 0])"
      ]
     },
     "execution_count": 204,
     "metadata": {},
     "output_type": "execute_result"
    }
   ],
   "source": [
    "Y_valid"
   ]
  },
  {
   "cell_type": "code",
   "execution_count": 205,
   "metadata": {},
   "outputs": [
    {
     "name": "stdout",
     "output_type": "stream",
     "text": [
      "Y_valid has 152 1s\n"
     ]
    }
   ],
   "source": [
    "# Count number of 1 in Y_valid\n",
    "print(\"Y_valid has\", sum(Y_valid), \"1s\")"
   ]
  },
  {
   "cell_type": "code",
   "execution_count": 206,
   "metadata": {},
   "outputs": [
    {
     "name": "stdout",
     "output_type": "stream",
     "text": [
      "[[2113  129]\n",
      " [  59   93]]\n"
     ]
    }
   ],
   "source": [
    "# Show the confusion matrix\n",
    "cm = confusion_matrix(Y_valid, Y_valid_pred)\n",
    "print(cm)"
   ]
  },
  {
   "cell_type": "code",
   "execution_count": 207,
   "metadata": {},
   "outputs": [
    {
     "data": {
      "image/png": "[encoded data removed]",
      "text/plain": [
       "<Figure size 640x480 with 1 Axes>"
      ]
     },
     "metadata": {},
     "output_type": "display_data"
    },
    {
     "name": "stdout",
     "output_type": "stream",
     "text": [
      "AUC:  0.9087926663223626\n"
     ]
    }
   ],
   "source": [
    "# Plot the roc curve\n",
    "fpr, tpr, thresholds = roc_curve(Y_valid, Y_valid_prob)\n",
    "roc_auc = auc(fpr, tpr)\n",
    "plt.figure()\n",
    "lw = 2\n",
    "plt.plot(fpr, tpr, color='darkorange', lw=lw, label='ROC curve (area = %0.2f)' % roc_auc)\n",
    "plt.plot([0, 1], [0, 1], color='navy', lw=lw, linestyle='--')\n",
    "plt.xlim([0.0, 1.0])\n",
    "plt.ylim([0.0, 1.05])\n",
    "plt.xlabel('False Positive Rate')\n",
    "plt.ylabel('True Positive Rate')\n",
    "plt.title('Receiver operating characteristic')\n",
    "plt.legend(loc=\"lower right\")\n",
    "plt.show()\n",
    "print(\"AUC: \", roc_auc)"
   ]
  },
  {
   "cell_type": "code",
   "execution_count": 208,
   "metadata": {},
   "outputs": [
    {
     "name": "stdout",
     "output_type": "stream",
     "text": [
      "                  Predicted\n",
      "32_175413_295037   0.070081\n",
      "33_176176_296681   0.000680\n",
      "42_119203_210828   0.001581\n",
      "44_181750_291554   0.000096\n",
      "61_176332_252348   0.001981\n"
     ]
    }
   ],
   "source": [
    "# if auc > 0.90, output the result by X_test\n",
    "if roc_auc > 0.90:\n",
    "    Y_test_prob = model.predict_proba(X_test)[:,1]\n",
    "    index = X_Test.index\n",
    "    output = pd.DataFrame(Y_test_prob, columns=['Predicted'], index=index, dtype=float)\n",
    "    print(output.head())\n",
    "    output.to_csv('output.csv', index_label='Id')"
   ]
  }
 ],
 "metadata": {
  "kernelspec": {
   "display_name": "Python 3.8.10 64-bit",
   "language": "python",
   "name": "python3"
  },
  "language_info": {
   "codemirror_mode": {
    "name": "ipython",
    "version": 3
   },
   "file_extension": ".py",
   "mimetype": "text/x-python",
   "name": "python",
   "nbconvert_exporter": "python",
   "pygments_lexer": "ipython3",
   "version": "3.8.10"
  },
  "orig_nbformat": 4,
  "vscode": {
   "interpreter": {
    "hash": "aee8b7b246df8f9039afb4144a1f6fd8d2ca17a180786b69acc140d282b71a49"
   }
  }
 },
 "nbformat": 4,
 "nbformat_minor": 2
}
