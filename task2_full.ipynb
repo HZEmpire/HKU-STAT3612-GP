{
 "cells": [
  {
   "cell_type": "markdown",
   "metadata": {},
   "source": [
    "## Selecting feature for 2 times\n",
    "### Author: Xu Haozhou\n",
    "    - Due to the difference on random seed, you may need to try different random seed to get the best answer\n",
    "    - The settings for the parameters in this file may not be the most suitable, you still need to do some adjustment."
   ]
  },
  {
   "cell_type": "code",
   "execution_count": 1172,
   "metadata": {},
   "outputs": [],
   "source": [
    "import pandas as pd\n",
    "import numpy as np\n",
    "import matplotlib.pyplot as plt\n",
    "import seaborn as sns\n",
    "import os\n",
    "import warnings\n",
    "import sklearn\n",
    "import scipy as sp\n",
    "import statsmodels as sm\n",
    "import statsmodels.api as sm\n",
    "import statsmodels.formula.api as smf\n",
    "import statsmodels.stats.api as sms\n",
    "import torch as t\n",
    "import torch.nn as nn\n",
    "import torch.nn.functional as F\n",
    "import torch.optim as optim\n",
    "import torch.utils.data as data\n",
    "import torchvision as tv\n",
    "import torchvision.transforms as transforms\n",
    "import torchvision.datasets as datasets\n",
    "import torchvision.models as models\n",
    "import torchvision.utils as vutils\n",
    "from sklearn.ensemble import GradientBoostingClassifier\n",
    "from sklearn.metrics import roc_auc_score\n",
    "from sklearn.metrics import roc_curve\n",
    "from sklearn.metrics import auc \n",
    "from sklearn.metrics import confusion_matrix\n",
    "from sklearn.metrics import classification_report\n",
    "from sklearn.metrics import accuracy_score\n",
    "from sklearn.metrics import precision_score\n",
    "from sklearn.metrics import recall_score\n",
    "from sklearn.metrics import f1_score\n",
    "from sklearn.metrics import precision_recall_curve\n",
    "from sklearn.metrics import average_precision_score\n",
    "from sklearn.metrics import log_loss\n",
    "from sklearn.metrics import brier_score_loss"
   ]
  },
  {
   "cell_type": "markdown",
   "metadata": {},
   "source": [
    "## Preparation"
   ]
  },
  {
   "cell_type": "code",
   "execution_count": 1173,
   "metadata": {},
   "outputs": [],
   "source": [
    "# Data are sorted in ./SuperData\n",
    "Train_DataX = pd.read_csv(\"./SuperData/X_train.csv\", index_col=[0], header=[0, 1, 2])\n",
    "Valid_DataX = pd.read_csv(\"./SuperData/X_valid.csv\", index_col=[0], header=[0, 1, 2])\n",
    "Test_DataX = pd.read_csv('./SuperData/X_test.csv', header=[0,1,2], index_col=0)\n",
    "Train_DataY = pd.read_csv(\"./task2/Y_train.csv\", index_col=[0], header=[0])\n",
    "Valid_DataY = pd.read_csv(\"./task2/Y_valid.csv\", index_col=[0], header=[0])"
   ]
  },
  {
   "cell_type": "code",
   "execution_count": 1174,
   "metadata": {},
   "outputs": [],
   "source": [
    "# Get used columns\n",
    "column_names = Train_DataX.columns\n",
    "X_Train = Train_DataX[column_names]\n",
    "X_valid = Valid_DataX[column_names]\n",
    "X_Test = Test_DataX[column_names]\n",
    "\n",
    "# Fill the missing values\n",
    "Train_DataX.fillna(0, inplace=True)\n",
    "Valid_DataX.fillna(0, inplace=True)\n",
    "Test_DataX.fillna(0, inplace=True)\n"
   ]
  },
  {
   "cell_type": "code",
   "execution_count": 1175,
   "metadata": {},
   "outputs": [
    {
     "data": {
      "text/plain": [
       "(16760, 7904)"
      ]
     },
     "execution_count": 1175,
     "metadata": {},
     "output_type": "execute_result"
    }
   ],
   "source": [
    "# Show size of Train_DataX\n",
    "X_Train.shape"
   ]
  },
  {
   "cell_type": "code",
   "execution_count": 1176,
   "metadata": {},
   "outputs": [],
   "source": [
    "# Change each to numpy array\n",
    "X_train = X_Train.to_numpy()\n",
    "X_valid = Valid_DataX.to_numpy()\n",
    "X_test = X_Test.to_numpy()\n",
    "Y_train = Train_DataY.to_numpy()\n",
    "Y_valid = Valid_DataY.to_numpy()"
   ]
  },
  {
   "cell_type": "code",
   "execution_count": 1177,
   "metadata": {},
   "outputs": [
    {
     "data": {
      "text/plain": [
       "(16760, 7904)"
      ]
     },
     "execution_count": 1177,
     "metadata": {},
     "output_type": "execute_result"
    }
   ],
   "source": [
    "X_train.shape"
   ]
  },
  {
   "cell_type": "code",
   "execution_count": 1178,
   "metadata": {},
   "outputs": [],
   "source": [
    "Y_train = Y_train.ravel()\n",
    "Y_valid = Y_valid.ravel()"
   ]
  },
  {
   "cell_type": "markdown",
   "metadata": {},
   "source": [
    "## Step1"
   ]
  },
  {
   "cell_type": "code",
   "execution_count": 1179,
   "metadata": {},
   "outputs": [],
   "source": [
    "# Train X_train and Y_train by Ensemble model on the skewed data\n",
    "from sklearn.ensemble import VotingClassifier\n",
    "# GradientBoostingClassifier\n",
    "from sklearn.ensemble import GradientBoostingClassifier\n",
    "# HistGradientBoostingClassifier\n",
    "from sklearn.ensemble import HistGradientBoostingClassifier\n",
    "# XGBoost\n",
    "import xgboost as xgb"
   ]
  },
  {
   "cell_type": "code",
   "execution_count": 1180,
   "metadata": {},
   "outputs": [
    {
     "name": "stdout",
     "output_type": "stream",
     "text": [
      "RMSE: 1.735046\n"
     ]
    }
   ],
   "source": [
    "model = xgb.XGBRegressor(booster='gbtree', eval_metric='rmse', n_estimators=100,\n",
    "                            max_depth=6, min_child_weight=3,\n",
    "                            learning_rate=0.04, subsample=0.6, colsample_bytree=1, random_state=3340, n_jobs=6)\n",
    "model.fit(X_train, Y_train)\n",
    "\n",
    "# Valid by X_valid and Y_valid\n",
    "Y_valid_pred = model.predict(X_valid)\n",
    "# Get rmse\n",
    "from sklearn.metrics import mean_squared_error\n",
    "rmse = np.sqrt(mean_squared_error(Y_valid, Y_valid_pred))\n",
    "print(\"RMSE: %f\" % (rmse))"
   ]
  },
  {
   "cell_type": "code",
   "execution_count": 1181,
   "metadata": {},
   "outputs": [],
   "source": [
    "importance = model.feature_importances_\n",
    "# Construct a dataframe to show the importance of each feature\n",
    "importance_df = pd.DataFrame(columns=column_names, data=[importance])"
   ]
  },
  {
   "cell_type": "code",
   "execution_count": 1182,
   "metadata": {},
   "outputs": [
    {
     "data": {
      "image/png": "[encoded data removed]",
      "text/plain": [
       "<Figure size 2000x1000 with 1 Axes>"
      ]
     },
     "metadata": {},
     "output_type": "display_data"
    }
   ],
   "source": [
    "# Importance graph\n",
    "x_axis = range(len(importance))\n",
    "plt.figure(figsize=(20, 10))\n",
    "plt.bar(x_axis, importance_df.iloc[0])\n",
    "plt.show()"
   ]
  },
  {
   "cell_type": "code",
   "execution_count": 1183,
   "metadata": {},
   "outputs": [
    {
     "data": {
      "text/plain": [
       "(1947,)"
      ]
     },
     "execution_count": 1183,
     "metadata": {},
     "output_type": "execute_result"
    }
   ],
   "source": [
    "truetable_data1 = importance_df.values > np.mean(importance_df.values)\n",
    "getcolumn = importance_df.columns[truetable_data1[0]]\n",
    "importance_df.loc[:, getcolumn].to_csv(\"./T2feature/1-3-1_mean.csv\", header=True)\n",
    "getcolumn.shape"
   ]
  },
  {
   "cell_type": "code",
   "execution_count": 1184,
   "metadata": {},
   "outputs": [
    {
     "data": {
      "text/html": [
       "<div>\n",
       "<style scoped>\n",
       "    .dataframe tbody tr th:only-of-type {\n",
       "        vertical-align: middle;\n",
       "    }\n",
       "\n",
       "    .dataframe tbody tr th {\n",
       "        vertical-align: top;\n",
       "    }\n",
       "\n",
       "    .dataframe thead tr th {\n",
       "        text-align: left;\n",
       "    }\n",
       "</style>\n",
       "<table border=\"1\" class=\"dataframe\">\n",
       "  <thead>\n",
       "    <tr>\n",
       "      <th>LEVEL2</th>\n",
       "      <th colspan=\"10\" halign=\"left\">alanine aminotransferase</th>\n",
       "      <th>...</th>\n",
       "      <th colspan=\"2\" halign=\"left\">white blood cell count</th>\n",
       "      <th colspan=\"8\" halign=\"left\">white blood cell count urine</th>\n",
       "    </tr>\n",
       "    <tr>\n",
       "      <th>Aggregation Function</th>\n",
       "      <th colspan=\"7\" halign=\"left\">mean</th>\n",
       "      <th colspan=\"3\" halign=\"left\">time_since_measured</th>\n",
       "      <th>...</th>\n",
       "      <th colspan=\"2\" halign=\"left\">time_since_measured</th>\n",
       "      <th colspan=\"3\" halign=\"left\">mean</th>\n",
       "      <th colspan=\"5\" halign=\"left\">time_since_measured</th>\n",
       "    </tr>\n",
       "    <tr>\n",
       "      <th>hours_in</th>\n",
       "      <th>0</th>\n",
       "      <th>3</th>\n",
       "      <th>8</th>\n",
       "      <th>21</th>\n",
       "      <th>22</th>\n",
       "      <th>avg</th>\n",
       "      <th>diff</th>\n",
       "      <th>0</th>\n",
       "      <th>3</th>\n",
       "      <th>14</th>\n",
       "      <th>...</th>\n",
       "      <th>22</th>\n",
       "      <th>23</th>\n",
       "      <th>8</th>\n",
       "      <th>10</th>\n",
       "      <th>avg</th>\n",
       "      <th>1</th>\n",
       "      <th>3</th>\n",
       "      <th>8</th>\n",
       "      <th>12</th>\n",
       "      <th>23</th>\n",
       "    </tr>\n",
       "  </thead>\n",
       "  <tbody>\n",
       "    <tr>\n",
       "      <th>0</th>\n",
       "      <td>0.000175</td>\n",
       "      <td>0.000916</td>\n",
       "      <td>0.000475</td>\n",
       "      <td>0.000324</td>\n",
       "      <td>0.00053</td>\n",
       "      <td>0.000222</td>\n",
       "      <td>0.000229</td>\n",
       "      <td>0.000137</td>\n",
       "      <td>0.000152</td>\n",
       "      <td>0.000201</td>\n",
       "      <td>...</td>\n",
       "      <td>0.000533</td>\n",
       "      <td>0.000606</td>\n",
       "      <td>0.000566</td>\n",
       "      <td>0.000475</td>\n",
       "      <td>0.000483</td>\n",
       "      <td>0.000721</td>\n",
       "      <td>0.000568</td>\n",
       "      <td>0.000264</td>\n",
       "      <td>0.000371</td>\n",
       "      <td>0.001085</td>\n",
       "    </tr>\n",
       "  </tbody>\n",
       "</table>\n",
       "<p>1 rows × 1947 columns</p>\n",
       "</div>"
      ],
      "text/plain": [
       "LEVEL2               alanine aminotransferase                                \\\n",
       "Aggregation Function                     mean                                 \n",
       "hours_in                                    0         3         8        21   \n",
       "0                                    0.000175  0.000916  0.000475  0.000324   \n",
       "\n",
       "LEVEL2                                                                 \\\n",
       "Aggregation Function                              time_since_measured   \n",
       "hours_in                   22       avg      diff                   0   \n",
       "0                     0.00053  0.000222  0.000229            0.000137   \n",
       "\n",
       "LEVEL2                                    ... white blood cell count  \\\n",
       "Aggregation Function                      ...    time_since_measured   \n",
       "hours_in                     3        14  ...                     22   \n",
       "0                     0.000152  0.000201  ...               0.000533   \n",
       "\n",
       "LEVEL2                         white blood cell count urine            \\\n",
       "Aggregation Function                                   mean             \n",
       "hours_in                    23                            8        10   \n",
       "0                     0.000606                     0.000566  0.000475   \n",
       "\n",
       "LEVEL2                                                                  \\\n",
       "Aggregation Function           time_since_measured                       \n",
       "hours_in                   avg                   1         3         8   \n",
       "0                     0.000483            0.000721  0.000568  0.000264   \n",
       "\n",
       "LEVEL2                                    \n",
       "Aggregation Function                      \n",
       "hours_in                    12        23  \n",
       "0                     0.000371  0.001085  \n",
       "\n",
       "[1 rows x 1947 columns]"
      ]
     },
     "execution_count": 1184,
     "metadata": {},
     "output_type": "execute_result"
    }
   ],
   "source": [
    "importance_df.loc[:, getcolumn]"
   ]
  },
  {
   "cell_type": "markdown",
   "metadata": {},
   "source": [
    "## Step 2"
   ]
  },
  {
   "cell_type": "code",
   "execution_count": 1185,
   "metadata": {},
   "outputs": [],
   "source": [
    "X_train = Train_DataX[getcolumn]\n",
    "X_valid = Valid_DataX[getcolumn]\n",
    "X_test2 = Test_DataX[getcolumn]\n",
    "\n",
    "# Change each to numpy array\n",
    "X_train = X_train.to_numpy()\n",
    "X_valid = X_valid.to_numpy()\n",
    "X_test2 = X_test2.to_numpy()\n",
    "Y_train = Train_DataY.to_numpy().ravel()\n",
    "Y_valid = Valid_DataY.to_numpy().ravel()"
   ]
  },
  {
   "cell_type": "code",
   "execution_count": 1186,
   "metadata": {},
   "outputs": [
    {
     "data": {
      "text/plain": [
       "(16760, 1947)"
      ]
     },
     "execution_count": 1186,
     "metadata": {},
     "output_type": "execute_result"
    }
   ],
   "source": [
    "X_train.shape"
   ]
  },
  {
   "cell_type": "code",
   "execution_count": 1187,
   "metadata": {},
   "outputs": [
    {
     "name": "stdout",
     "output_type": "stream",
     "text": [
      "RMSE: 1.724062\n"
     ]
    }
   ],
   "source": [
    "model2 = xgb.XGBRegressor(booster='gbtree', eval_metric='rmse', n_estimators=300,\n",
    "                            max_depth=6, min_child_weight=3,\n",
    "                            learning_rate=0.04, subsample=0.6, colsample_bytree=1, random_state=3340, n_jobs=6)\n",
    "model2.fit(X_train, Y_train)\n",
    "\n",
    "# Valid by X_valid and Y_valid\n",
    "Y_valid_pred = model2.predict(X_valid)\n",
    "# Get rmse\n",
    "from sklearn.metrics import mean_squared_error\n",
    "rmse = np.sqrt(mean_squared_error(Y_valid, Y_valid_pred))\n",
    "print(\"RMSE: %f\" % (rmse))"
   ]
  },
  {
   "cell_type": "code",
   "execution_count": 1188,
   "metadata": {},
   "outputs": [],
   "source": [
    "importance = model2.feature_importances_\n",
    "# Construct a dataframe to show the importance of each feature\n",
    "importance_df = pd.DataFrame(columns=getcolumn, data=[importance])"
   ]
  },
  {
   "cell_type": "code",
   "execution_count": 1189,
   "metadata": {},
   "outputs": [
    {
     "data": {
      "text/plain": [
       "(802,)"
      ]
     },
     "execution_count": 1189,
     "metadata": {},
     "output_type": "execute_result"
    }
   ],
   "source": [
    "truetable_data1 = importance_df.values > np.mean(importance_df.values)\n",
    "getcolumn = importance_df.columns[truetable_data1[0]]\n",
    "importance_df.loc[:, getcolumn].to_csv(\"./T2feature/1-3-2_mean.csv\", header=True)\n",
    "getcolumn.shape"
   ]
  },
  {
   "cell_type": "code",
   "execution_count": 1190,
   "metadata": {},
   "outputs": [
    {
     "data": {
      "text/html": [
       "<div>\n",
       "<style scoped>\n",
       "    .dataframe tbody tr th:only-of-type {\n",
       "        vertical-align: middle;\n",
       "    }\n",
       "\n",
       "    .dataframe tbody tr th {\n",
       "        vertical-align: top;\n",
       "    }\n",
       "\n",
       "    .dataframe thead tr th {\n",
       "        text-align: left;\n",
       "    }\n",
       "</style>\n",
       "<table border=\"1\" class=\"dataframe\">\n",
       "  <thead>\n",
       "    <tr>\n",
       "      <th>LEVEL2</th>\n",
       "      <th>alanine aminotransferase</th>\n",
       "      <th colspan=\"7\" halign=\"left\">albumin</th>\n",
       "      <th>albumin pleural</th>\n",
       "      <th>alkaline phosphate</th>\n",
       "      <th>...</th>\n",
       "      <th colspan=\"6\" halign=\"left\">white blood cell count</th>\n",
       "      <th colspan=\"4\" halign=\"left\">white blood cell count urine</th>\n",
       "    </tr>\n",
       "    <tr>\n",
       "      <th>Aggregation Function</th>\n",
       "      <th>mean</th>\n",
       "      <th colspan=\"5\" halign=\"left\">mean</th>\n",
       "      <th colspan=\"2\" halign=\"left\">time_since_measured</th>\n",
       "      <th>time_since_measured</th>\n",
       "      <th>mean</th>\n",
       "      <th>...</th>\n",
       "      <th colspan=\"6\" halign=\"left\">time_since_measured</th>\n",
       "      <th>mean</th>\n",
       "      <th colspan=\"3\" halign=\"left\">time_since_measured</th>\n",
       "    </tr>\n",
       "    <tr>\n",
       "      <th>hours_in</th>\n",
       "      <th>22</th>\n",
       "      <th>2</th>\n",
       "      <th>4</th>\n",
       "      <th>8</th>\n",
       "      <th>21</th>\n",
       "      <th>avg</th>\n",
       "      <th>7</th>\n",
       "      <th>21</th>\n",
       "      <th>15</th>\n",
       "      <th>2</th>\n",
       "      <th>...</th>\n",
       "      <th>13</th>\n",
       "      <th>16</th>\n",
       "      <th>17</th>\n",
       "      <th>18</th>\n",
       "      <th>19</th>\n",
       "      <th>23</th>\n",
       "      <th>8</th>\n",
       "      <th>3</th>\n",
       "      <th>12</th>\n",
       "      <th>23</th>\n",
       "    </tr>\n",
       "  </thead>\n",
       "  <tbody>\n",
       "    <tr>\n",
       "      <th>0</th>\n",
       "      <td>0.000609</td>\n",
       "      <td>0.001346</td>\n",
       "      <td>0.000659</td>\n",
       "      <td>0.000656</td>\n",
       "      <td>0.000612</td>\n",
       "      <td>0.00095</td>\n",
       "      <td>0.000546</td>\n",
       "      <td>0.000594</td>\n",
       "      <td>0.000701</td>\n",
       "      <td>0.00063</td>\n",
       "      <td>...</td>\n",
       "      <td>0.000628</td>\n",
       "      <td>0.000645</td>\n",
       "      <td>0.001704</td>\n",
       "      <td>0.000668</td>\n",
       "      <td>0.000919</td>\n",
       "      <td>0.000544</td>\n",
       "      <td>0.000679</td>\n",
       "      <td>0.000517</td>\n",
       "      <td>0.000571</td>\n",
       "      <td>0.00078</td>\n",
       "    </tr>\n",
       "  </tbody>\n",
       "</table>\n",
       "<p>1 rows × 802 columns</p>\n",
       "</div>"
      ],
      "text/plain": [
       "LEVEL2               alanine aminotransferase   albumin                      \\\n",
       "Aggregation Function                     mean      mean                       \n",
       "hours_in                                   22         2         4         8   \n",
       "0                                    0.000609  0.001346  0.000659  0.000656   \n",
       "\n",
       "LEVEL2                                                                 \\\n",
       "Aggregation Function                    time_since_measured             \n",
       "hours_in                    21      avg                   7        21   \n",
       "0                     0.000612  0.00095            0.000546  0.000594   \n",
       "\n",
       "LEVEL2                   albumin pleural alkaline phosphate  ...  \\\n",
       "Aggregation Function time_since_measured               mean  ...   \n",
       "hours_in                              15                  2  ...   \n",
       "0                               0.000701            0.00063  ...   \n",
       "\n",
       "LEVEL2               white blood cell count                                \\\n",
       "Aggregation Function    time_since_measured                                 \n",
       "hours_in                                 13        16        17        18   \n",
       "0                                  0.000628  0.000645  0.001704  0.000668   \n",
       "\n",
       "LEVEL2                                   white blood cell count urine  \\\n",
       "Aggregation Function                                             mean   \n",
       "hours_in                    19        23                            8   \n",
       "0                     0.000919  0.000544                     0.000679   \n",
       "\n",
       "LEVEL2                                                       \n",
       "Aggregation Function time_since_measured                     \n",
       "hours_in                               3        12       23  \n",
       "0                               0.000517  0.000571  0.00078  \n",
       "\n",
       "[1 rows x 802 columns]"
      ]
     },
     "execution_count": 1190,
     "metadata": {},
     "output_type": "execute_result"
    }
   ],
   "source": [
    "importance_df.loc[:, getcolumn]"
   ]
  },
  {
   "cell_type": "markdown",
   "metadata": {},
   "source": [
    "## Step 3"
   ]
  },
  {
   "cell_type": "code",
   "execution_count": 1191,
   "metadata": {},
   "outputs": [],
   "source": [
    "X_train = Train_DataX[getcolumn]\n",
    "X_valid = Valid_DataX[getcolumn]\n",
    "X_test3 = Test_DataX[getcolumn]\n",
    "\n",
    "# Change each to numpy array\n",
    "X_train = X_train.to_numpy()\n",
    "X_valid = X_valid.to_numpy()\n",
    "X_test3 = X_test3.to_numpy()\n",
    "Y_train = Train_DataY.to_numpy().ravel()\n",
    "Y_valid = Valid_DataY.to_numpy().ravel()"
   ]
  },
  {
   "cell_type": "code",
   "execution_count": 1192,
   "metadata": {},
   "outputs": [
    {
     "data": {
      "text/plain": [
       "(16760, 802)"
      ]
     },
     "execution_count": 1192,
     "metadata": {},
     "output_type": "execute_result"
    }
   ],
   "source": [
    "X_train.shape"
   ]
  },
  {
   "cell_type": "code",
   "execution_count": 1193,
   "metadata": {},
   "outputs": [
    {
     "name": "stdout",
     "output_type": "stream",
     "text": [
      "RMSE: 1.725952\n"
     ]
    }
   ],
   "source": [
    "model3 = xgb.XGBRegressor(booster='gbtree', eval_metric='rmse', n_estimators=300,\n",
    "                            max_depth=6, min_child_weight=3,\n",
    "                            learning_rate=0.04, subsample=0.6, colsample_bytree=1, random_state=3340, n_jobs=6)\n",
    "model3.fit(X_train, Y_train)\n",
    "\n",
    "# Valid by X_valid and Y_valid\n",
    "Y_valid_pred = model3.predict(X_valid)\n",
    "# Get rmse\n",
    "from sklearn.metrics import mean_squared_error\n",
    "rmse = np.sqrt(mean_squared_error(Y_valid, Y_valid_pred))\n",
    "print(\"RMSE: %f\" % (rmse))"
   ]
  },
  {
   "cell_type": "code",
   "execution_count": 1194,
   "metadata": {},
   "outputs": [],
   "source": [
    "importance = model3.feature_importances_\n",
    "# Construct a dataframe to show the importance of each feature\n",
    "importance_df = pd.DataFrame(columns=getcolumn, data=[importance])"
   ]
  },
  {
   "cell_type": "code",
   "execution_count": 1195,
   "metadata": {},
   "outputs": [
    {
     "data": {
      "text/plain": [
       "(267,)"
      ]
     },
     "execution_count": 1195,
     "metadata": {},
     "output_type": "execute_result"
    }
   ],
   "source": [
    "truetable_data1 = importance_df.values > np.mean(importance_df.values)\n",
    "getcolumn = importance_df.columns[truetable_data1[0]]\n",
    "importance_df.loc[:, getcolumn].to_csv(\"./T2feature/1-3-3_mean.csv\", header=True)\n",
    "getcolumn.shape"
   ]
  },
  {
   "cell_type": "code",
   "execution_count": 1196,
   "metadata": {},
   "outputs": [
    {
     "data": {
      "text/html": [
       "<div>\n",
       "<style scoped>\n",
       "    .dataframe tbody tr th:only-of-type {\n",
       "        vertical-align: middle;\n",
       "    }\n",
       "\n",
       "    .dataframe tbody tr th {\n",
       "        vertical-align: top;\n",
       "    }\n",
       "\n",
       "    .dataframe thead tr th {\n",
       "        text-align: left;\n",
       "    }\n",
       "</style>\n",
       "<table border=\"1\" class=\"dataframe\">\n",
       "  <thead>\n",
       "    <tr>\n",
       "      <th>LEVEL2</th>\n",
       "      <th colspan=\"2\" halign=\"left\">albumin</th>\n",
       "      <th>anion gap</th>\n",
       "      <th colspan=\"3\" halign=\"left\">asparate aminotransferase</th>\n",
       "      <th colspan=\"2\" halign=\"left\">blood urea nitrogen</th>\n",
       "      <th>calcium ionized</th>\n",
       "      <th>cardiac index</th>\n",
       "      <th>...</th>\n",
       "      <th colspan=\"3\" halign=\"left\">troponin-t</th>\n",
       "      <th>weight</th>\n",
       "      <th colspan=\"5\" halign=\"left\">white blood cell count</th>\n",
       "      <th>white blood cell count urine</th>\n",
       "    </tr>\n",
       "    <tr>\n",
       "      <th>Aggregation Function</th>\n",
       "      <th colspan=\"2\" halign=\"left\">mean</th>\n",
       "      <th>mean</th>\n",
       "      <th colspan=\"3\" halign=\"left\">mean</th>\n",
       "      <th colspan=\"2\" halign=\"left\">mean</th>\n",
       "      <th>mask</th>\n",
       "      <th>mask</th>\n",
       "      <th>...</th>\n",
       "      <th>mask</th>\n",
       "      <th colspan=\"2\" halign=\"left\">time_since_measured</th>\n",
       "      <th>mean</th>\n",
       "      <th colspan=\"5\" halign=\"left\">time_since_measured</th>\n",
       "      <th>time_since_measured</th>\n",
       "    </tr>\n",
       "    <tr>\n",
       "      <th>hours_in</th>\n",
       "      <th>8</th>\n",
       "      <th>avg</th>\n",
       "      <th>23</th>\n",
       "      <th>10</th>\n",
       "      <th>12</th>\n",
       "      <th>22</th>\n",
       "      <th>16</th>\n",
       "      <th>23</th>\n",
       "      <th>23</th>\n",
       "      <th>7</th>\n",
       "      <th>...</th>\n",
       "      <th>20</th>\n",
       "      <th>0</th>\n",
       "      <th>21</th>\n",
       "      <th>17</th>\n",
       "      <th>12</th>\n",
       "      <th>13</th>\n",
       "      <th>17</th>\n",
       "      <th>18</th>\n",
       "      <th>23</th>\n",
       "      <th>23</th>\n",
       "    </tr>\n",
       "  </thead>\n",
       "  <tbody>\n",
       "    <tr>\n",
       "      <th>0</th>\n",
       "      <td>0.001273</td>\n",
       "      <td>0.001929</td>\n",
       "      <td>0.001324</td>\n",
       "      <td>0.00182</td>\n",
       "      <td>0.001502</td>\n",
       "      <td>0.001328</td>\n",
       "      <td>0.001492</td>\n",
       "      <td>0.00347</td>\n",
       "      <td>0.001298</td>\n",
       "      <td>0.001712</td>\n",
       "      <td>...</td>\n",
       "      <td>0.001315</td>\n",
       "      <td>0.001331</td>\n",
       "      <td>0.001289</td>\n",
       "      <td>0.001352</td>\n",
       "      <td>0.00159</td>\n",
       "      <td>0.001899</td>\n",
       "      <td>0.001768</td>\n",
       "      <td>0.001381</td>\n",
       "      <td>0.001559</td>\n",
       "      <td>0.001336</td>\n",
       "    </tr>\n",
       "  </tbody>\n",
       "</table>\n",
       "<p>1 rows × 267 columns</p>\n",
       "</div>"
      ],
      "text/plain": [
       "LEVEL2                 albumin           anion gap asparate aminotransferase  \\\n",
       "Aggregation Function      mean                mean                      mean   \n",
       "hours_in                     8       avg        23                        10   \n",
       "0                     0.001273  0.001929  0.001324                   0.00182   \n",
       "\n",
       "LEVEL2                                   blood urea nitrogen           \\\n",
       "Aggregation Function                                    mean            \n",
       "hours_in                    12        22                  16       23   \n",
       "0                     0.001502  0.001328            0.001492  0.00347   \n",
       "\n",
       "LEVEL2               calcium ionized cardiac index  ... troponin-t  \\\n",
       "Aggregation Function            mask          mask  ...       mask   \n",
       "hours_in                          23             7  ...         20   \n",
       "0                           0.001298      0.001712  ...   0.001315   \n",
       "\n",
       "LEVEL2                                                weight  \\\n",
       "Aggregation Function time_since_measured                mean   \n",
       "hours_in                               0        21        17   \n",
       "0                               0.001331  0.001289  0.001352   \n",
       "\n",
       "LEVEL2               white blood cell count                                \\\n",
       "Aggregation Function    time_since_measured                                 \n",
       "hours_in                                 12        13        17        18   \n",
       "0                                   0.00159  0.001899  0.001768  0.001381   \n",
       "\n",
       "LEVEL2                         white blood cell count urine  \n",
       "Aggregation Function                    time_since_measured  \n",
       "hours_in                    23                           23  \n",
       "0                     0.001559                     0.001336  \n",
       "\n",
       "[1 rows x 267 columns]"
      ]
     },
     "execution_count": 1196,
     "metadata": {},
     "output_type": "execute_result"
    }
   ],
   "source": [
    "importance_df.loc[:, getcolumn]"
   ]
  },
  {
   "cell_type": "markdown",
   "metadata": {},
   "source": [
    "## Result"
   ]
  },
  {
   "cell_type": "code",
   "execution_count": 1197,
   "metadata": {},
   "outputs": [
    {
     "data": {
      "text/plain": [
       "array([3.7262301, 4.6828394, 3.3348858, ..., 5.021346 , 3.177342 ,\n",
       "       2.6947322], dtype=float32)"
      ]
     },
     "execution_count": 1197,
     "metadata": {},
     "output_type": "execute_result"
    }
   ],
   "source": [
    "Y_valid_pred"
   ]
  },
  {
   "cell_type": "code",
   "execution_count": 1198,
   "metadata": {},
   "outputs": [
    {
     "data": {
      "text/plain": [
       "array([1.67847222, 5.90171296, 3.54657407, ..., 9.14388889, 6.12417824,\n",
       "       3.81853009])"
      ]
     },
     "execution_count": 1198,
     "metadata": {},
     "output_type": "execute_result"
    }
   ],
   "source": [
    "Y_valid"
   ]
  },
  {
   "cell_type": "code",
   "execution_count": 1199,
   "metadata": {},
   "outputs": [
    {
     "name": "stdout",
     "output_type": "stream",
     "text": [
      "                  Predicted\n",
      "32_175413_295037   3.716649\n",
      "33_176176_296681   2.536534\n",
      "42_119203_210828   2.602695\n",
      "44_181750_291554   2.316936\n",
      "61_176332_252348   2.443878\n"
     ]
    }
   ],
   "source": [
    "# if auc < 1.73, output the result by X_test\n",
    "if rmse < 1.75:\n",
    "    Y_test_prob = model3.predict(X_test3)\n",
    "    index = X_Test.index\n",
    "    output = pd.DataFrame(Y_test_prob, columns=['Predicted'], index=index, dtype=float)\n",
    "    print(output.head())\n",
    "    output.to_csv('output.csv', index_label='Id')"
   ]
  }
 ],
 "metadata": {
  "kernelspec": {
   "display_name": "Python 3.8.10 64-bit",
   "language": "python",
   "name": "python3"
  },
  "language_info": {
   "codemirror_mode": {
    "name": "ipython",
    "version": 3
   },
   "file_extension": ".py",
   "mimetype": "text/x-python",
   "name": "python",
   "nbconvert_exporter": "python",
   "pygments_lexer": "ipython3",
   "version": "3.8.10"
  },
  "orig_nbformat": 4,
  "vscode": {
   "interpreter": {
    "hash": "aee8b7b246df8f9039afb4144a1f6fd8d2ca17a180786b69acc140d282b71a49"
   }
  }
 },
 "nbformat": 4,
 "nbformat_minor": 2
}
