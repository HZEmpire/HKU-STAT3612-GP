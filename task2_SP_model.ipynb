{
 "cells": [
  {
   "cell_type": "code",
   "execution_count": 1,
   "metadata": {},
   "outputs": [],
   "source": [
    "import pandas as pd\n",
    "import numpy as np\n",
    "import matplotlib.pyplot as plt\n",
    "import seaborn as sns\n",
    "import os\n",
    "import warnings\n",
    "import sklearn\n",
    "import scipy as sp\n",
    "import statsmodels as sm\n",
    "import statsmodels.api as sm\n",
    "import statsmodels.formula.api as smf\n",
    "import statsmodels.stats.api as sms\n",
    "import torch as t\n",
    "import torch.nn as nn\n",
    "import torch.nn.functional as F\n",
    "import torch.optim as optim\n",
    "import torch.utils.data as data\n",
    "import torchvision as tv\n",
    "import torchvision.transforms as transforms\n",
    "import torchvision.datasets as datasets\n",
    "import torchvision.models as models\n",
    "import torchvision.utils as vutils\n",
    "from sklearn.metrics import mean_squared_error\n",
    "from sklearn.metrics import roc_auc_score\n",
    "from sklearn.metrics import roc_curve\n",
    "from sklearn.metrics import auc \n",
    "from sklearn.metrics import confusion_matrix\n",
    "from sklearn.metrics import classification_report\n",
    "from sklearn.metrics import accuracy_score\n",
    "from sklearn.metrics import precision_score\n",
    "from sklearn.metrics import recall_score\n",
    "from sklearn.metrics import f1_score\n",
    "from sklearn.metrics import precision_recall_curve\n",
    "from sklearn.metrics import average_precision_score\n",
    "from sklearn.metrics import log_loss\n",
    "from sklearn.metrics import brier_score_loss"
   ]
  },
  {
   "cell_type": "code",
   "execution_count": 2,
   "metadata": {},
   "outputs": [],
   "source": [
    "# Data are sorted in ./SuperData\n",
    "Train_DataX = pd.read_csv(\"./SuperData/X_train.csv\", index_col=0, header=[0,1,2])\n",
    "Valid_DataX = pd.read_csv(\"./SuperData/X_valid.csv\", index_col=0, header=[0,1,2])\n",
    "X_Test = pd.read_csv('./SuperData/X_test.csv', index_col=0 , header=[0,1,2])\n",
    "Train_DataY = pd.read_csv(\"./task2/Y_train.csv\", index_col=0)\n",
    "Valid_DataY = pd.read_csv(\"./task2/Y_valid.csv\", index_col=0)\n",
    "\n",
    "# Fill nan with 0\n",
    "Train_DataX = Train_DataX.fillna(0)\n",
    "Valid_DataX = Valid_DataX.fillna(0)\n",
    "X_Test = X_Test.fillna(0)"
   ]
  },
  {
   "cell_type": "code",
   "execution_count": 3,
   "metadata": {},
   "outputs": [
    {
     "name": "stdout",
     "output_type": "stream",
     "text": [
      "Train_DataX has 16760 rows\n"
     ]
    }
   ],
   "source": [
    "# print number of rows in Train_DataX\n",
    "print(\"Train_DataX has\", len(Train_DataX), \"rows\")"
   ]
  },
  {
   "cell_type": "code",
   "execution_count": 4,
   "metadata": {},
   "outputs": [
    {
     "data": {
      "text/plain": [
       "(16760, 7904)"
      ]
     },
     "execution_count": 4,
     "metadata": {},
     "output_type": "execute_result"
    }
   ],
   "source": [
    "# Show size of Train_DataX after dropping columns\n",
    "Train_DataX.shape"
   ]
  },
  {
   "cell_type": "code",
   "execution_count": 5,
   "metadata": {},
   "outputs": [
    {
     "data": {
      "text/html": [
       "<div>\n",
       "<style scoped>\n",
       "    .dataframe tbody tr th:only-of-type {\n",
       "        vertical-align: middle;\n",
       "    }\n",
       "\n",
       "    .dataframe tbody tr th {\n",
       "        vertical-align: top;\n",
       "    }\n",
       "\n",
       "    .dataframe thead tr th {\n",
       "        text-align: left;\n",
       "    }\n",
       "</style>\n",
       "<table border=\"1\" class=\"dataframe\">\n",
       "  <thead>\n",
       "    <tr>\n",
       "      <th>LEVEL2</th>\n",
       "      <th colspan=\"10\" halign=\"left\">alanine aminotransferase</th>\n",
       "      <th>...</th>\n",
       "      <th colspan=\"10\" halign=\"left\">white blood cell count urine</th>\n",
       "    </tr>\n",
       "    <tr>\n",
       "      <th>Aggregation Function</th>\n",
       "      <th colspan=\"10\" halign=\"left\">mask</th>\n",
       "      <th>...</th>\n",
       "      <th colspan=\"10\" halign=\"left\">time_since_measured</th>\n",
       "    </tr>\n",
       "    <tr>\n",
       "      <th>hours_in</th>\n",
       "      <th>0</th>\n",
       "      <th>1</th>\n",
       "      <th>2</th>\n",
       "      <th>3</th>\n",
       "      <th>4</th>\n",
       "      <th>5</th>\n",
       "      <th>6</th>\n",
       "      <th>7</th>\n",
       "      <th>8</th>\n",
       "      <th>9</th>\n",
       "      <th>...</th>\n",
       "      <th>15</th>\n",
       "      <th>16</th>\n",
       "      <th>17</th>\n",
       "      <th>18</th>\n",
       "      <th>19</th>\n",
       "      <th>20</th>\n",
       "      <th>21</th>\n",
       "      <th>22</th>\n",
       "      <th>23</th>\n",
       "      <th>diff</th>\n",
       "    </tr>\n",
       "  </thead>\n",
       "  <tbody>\n",
       "    <tr>\n",
       "      <th>3_145834_211552</th>\n",
       "      <td>1.0</td>\n",
       "      <td>0.0</td>\n",
       "      <td>0.0</td>\n",
       "      <td>0.0</td>\n",
       "      <td>0.0</td>\n",
       "      <td>0.0</td>\n",
       "      <td>0.0</td>\n",
       "      <td>0.0</td>\n",
       "      <td>0.0</td>\n",
       "      <td>0.0</td>\n",
       "      <td>...</td>\n",
       "      <td>7.0</td>\n",
       "      <td>8.0</td>\n",
       "      <td>9.0</td>\n",
       "      <td>10.0</td>\n",
       "      <td>11.0</td>\n",
       "      <td>12.0</td>\n",
       "      <td>13.0</td>\n",
       "      <td>14.0</td>\n",
       "      <td>15.0</td>\n",
       "      <td>100.0</td>\n",
       "    </tr>\n",
       "    <tr>\n",
       "      <th>6_107064_228232</th>\n",
       "      <td>1.0</td>\n",
       "      <td>0.0</td>\n",
       "      <td>0.0</td>\n",
       "      <td>0.0</td>\n",
       "      <td>0.0</td>\n",
       "      <td>0.0</td>\n",
       "      <td>0.0</td>\n",
       "      <td>0.0</td>\n",
       "      <td>0.0</td>\n",
       "      <td>0.0</td>\n",
       "      <td>...</td>\n",
       "      <td>31.0</td>\n",
       "      <td>32.0</td>\n",
       "      <td>33.0</td>\n",
       "      <td>34.0</td>\n",
       "      <td>35.0</td>\n",
       "      <td>36.0</td>\n",
       "      <td>37.0</td>\n",
       "      <td>38.0</td>\n",
       "      <td>39.0</td>\n",
       "      <td>23.0</td>\n",
       "    </tr>\n",
       "    <tr>\n",
       "      <th>9_150750_220597</th>\n",
       "      <td>0.0</td>\n",
       "      <td>0.0</td>\n",
       "      <td>0.0</td>\n",
       "      <td>0.0</td>\n",
       "      <td>0.0</td>\n",
       "      <td>0.0</td>\n",
       "      <td>0.0</td>\n",
       "      <td>0.0</td>\n",
       "      <td>0.0</td>\n",
       "      <td>0.0</td>\n",
       "      <td>...</td>\n",
       "      <td>55.0</td>\n",
       "      <td>56.0</td>\n",
       "      <td>57.0</td>\n",
       "      <td>58.0</td>\n",
       "      <td>59.0</td>\n",
       "      <td>60.0</td>\n",
       "      <td>61.0</td>\n",
       "      <td>62.0</td>\n",
       "      <td>63.0</td>\n",
       "      <td>23.0</td>\n",
       "    </tr>\n",
       "    <tr>\n",
       "      <th>11_194540_229441</th>\n",
       "      <td>0.0</td>\n",
       "      <td>0.0</td>\n",
       "      <td>0.0</td>\n",
       "      <td>0.0</td>\n",
       "      <td>0.0</td>\n",
       "      <td>0.0</td>\n",
       "      <td>0.0</td>\n",
       "      <td>0.0</td>\n",
       "      <td>0.0</td>\n",
       "      <td>0.0</td>\n",
       "      <td>...</td>\n",
       "      <td>79.0</td>\n",
       "      <td>80.0</td>\n",
       "      <td>81.0</td>\n",
       "      <td>82.0</td>\n",
       "      <td>83.0</td>\n",
       "      <td>84.0</td>\n",
       "      <td>85.0</td>\n",
       "      <td>86.0</td>\n",
       "      <td>87.0</td>\n",
       "      <td>23.0</td>\n",
       "    </tr>\n",
       "    <tr>\n",
       "      <th>12_112213_232669</th>\n",
       "      <td>0.0</td>\n",
       "      <td>0.0</td>\n",
       "      <td>0.0</td>\n",
       "      <td>0.0</td>\n",
       "      <td>0.0</td>\n",
       "      <td>0.0</td>\n",
       "      <td>0.0</td>\n",
       "      <td>0.0</td>\n",
       "      <td>0.0</td>\n",
       "      <td>0.0</td>\n",
       "      <td>...</td>\n",
       "      <td>103.0</td>\n",
       "      <td>104.0</td>\n",
       "      <td>105.0</td>\n",
       "      <td>106.0</td>\n",
       "      <td>107.0</td>\n",
       "      <td>108.0</td>\n",
       "      <td>109.0</td>\n",
       "      <td>110.0</td>\n",
       "      <td>111.0</td>\n",
       "      <td>23.0</td>\n",
       "    </tr>\n",
       "  </tbody>\n",
       "</table>\n",
       "<p>5 rows × 7904 columns</p>\n",
       "</div>"
      ],
      "text/plain": [
       "LEVEL2               alanine aminotransferase                                \\\n",
       "Aggregation Function                     mask                                 \n",
       "hours_in                                    0    1    2    3    4    5    6   \n",
       "3_145834_211552                           1.0  0.0  0.0  0.0  0.0  0.0  0.0   \n",
       "6_107064_228232                           1.0  0.0  0.0  0.0  0.0  0.0  0.0   \n",
       "9_150750_220597                           0.0  0.0  0.0  0.0  0.0  0.0  0.0   \n",
       "11_194540_229441                          0.0  0.0  0.0  0.0  0.0  0.0  0.0   \n",
       "12_112213_232669                          0.0  0.0  0.0  0.0  0.0  0.0  0.0   \n",
       "\n",
       "LEVEL2                               ... white blood cell count urine         \\\n",
       "Aggregation Function                 ...          time_since_measured          \n",
       "hours_in                7    8    9  ...                           15     16   \n",
       "3_145834_211552       0.0  0.0  0.0  ...                          7.0    8.0   \n",
       "6_107064_228232       0.0  0.0  0.0  ...                         31.0   32.0   \n",
       "9_150750_220597       0.0  0.0  0.0  ...                         55.0   56.0   \n",
       "11_194540_229441      0.0  0.0  0.0  ...                         79.0   80.0   \n",
       "12_112213_232669      0.0  0.0  0.0  ...                        103.0  104.0   \n",
       "\n",
       "LEVEL2                                                                        \n",
       "Aggregation Function                                                          \n",
       "hours_in                 17     18     19     20     21     22     23   diff  \n",
       "3_145834_211552         9.0   10.0   11.0   12.0   13.0   14.0   15.0  100.0  \n",
       "6_107064_228232        33.0   34.0   35.0   36.0   37.0   38.0   39.0   23.0  \n",
       "9_150750_220597        57.0   58.0   59.0   60.0   61.0   62.0   63.0   23.0  \n",
       "11_194540_229441       81.0   82.0   83.0   84.0   85.0   86.0   87.0   23.0  \n",
       "12_112213_232669      105.0  106.0  107.0  108.0  109.0  110.0  111.0   23.0  \n",
       "\n",
       "[5 rows x 7904 columns]"
      ]
     },
     "execution_count": 5,
     "metadata": {},
     "output_type": "execute_result"
    }
   ],
   "source": [
    "Train_DataX.head()"
   ]
  },
  {
   "cell_type": "code",
   "execution_count": 6,
   "metadata": {},
   "outputs": [],
   "source": [
    "# Change each to numpy array\n",
    "X_train = Train_DataX.to_numpy()\n",
    "X_valid = Valid_DataX.to_numpy()\n",
    "X_test = X_Test.to_numpy()\n",
    "Y_train = Train_DataY.to_numpy()\n",
    "Y_valid = Valid_DataY.to_numpy()"
   ]
  },
  {
   "cell_type": "code",
   "execution_count": 7,
   "metadata": {},
   "outputs": [
    {
     "data": {
      "text/plain": [
       "(16760, 7904)"
      ]
     },
     "execution_count": 7,
     "metadata": {},
     "output_type": "execute_result"
    }
   ],
   "source": [
    "X_train.shape"
   ]
  },
  {
   "cell_type": "code",
   "execution_count": 8,
   "metadata": {},
   "outputs": [
    {
     "data": {
      "text/plain": [
       "(16760,)"
      ]
     },
     "execution_count": 8,
     "metadata": {},
     "output_type": "execute_result"
    }
   ],
   "source": [
    "Y_train = Y_train.ravel()\n",
    "Y_valid = Y_valid.ravel()\n",
    "Y_train.shape"
   ]
  },
  {
   "cell_type": "code",
   "execution_count": 9,
   "metadata": {},
   "outputs": [
    {
     "name": "stdout",
     "output_type": "stream",
     "text": [
      "RMSE: 9197.378572\n"
     ]
    }
   ],
   "source": [
    "# First regression model\n",
    "# fast 4 min\n",
    "from sklearn.linear_model import LinearRegression\n",
    "model = LinearRegression(n_jobs=5)\n",
    "model.fit(X_train, Y_train)\n",
    "Y_valid_pred = model.predict(X_valid)\n",
    "rmse = np.sqrt(mean_squared_error(Y_valid, Y_valid_pred))\n",
    "print(\"RMSE: %f\" % (rmse))"
   ]
  },
  {
   "cell_type": "code",
   "execution_count": null,
   "metadata": {},
   "outputs": [
    {
     "name": "stdout",
     "output_type": "stream",
     "text": [
      "RMSE: 173.363853\n"
     ]
    }
   ],
   "source": [
    "# Second regression model\n",
    "# fast 3min\n",
    "from sklearn.linear_model import Ridge\n",
    "model = Ridge(alpha=0.1, n_jobs=5)\n",
    "model.fit(X_train, Y_train)\n",
    "Y_valid_pred = model.predict(X_valid)\n",
    "rmse = np.sqrt(mean_squared_error(Y_valid, Y_valid_pred))\n",
    "print(\"RMSE: %f\" % (rmse))"
   ]
  },
  {
   "cell_type": "code",
   "execution_count": null,
   "metadata": {},
   "outputs": [
    {
     "name": "stdout",
     "output_type": "stream",
     "text": [
      "RMSE: 1.824610\n"
     ]
    },
    {
     "name": "stderr",
     "output_type": "stream",
     "text": [
      "/Library/Frameworks/Python.framework/Versions/3.8/lib/python3.8/site-packages/sklearn/linear_model/_coordinate_descent.py:648: ConvergenceWarning: Objective did not converge. You might want to increase the number of iterations, check the scale of the features or consider increasing regularisation. Duality gap: 2.736e+04, tolerance: 6.543e+00\n",
      "  model = cd_fast.enet_coordinate_descent(\n"
     ]
    }
   ],
   "source": [
    "# Third regression model\n",
    "# fast 2min\n",
    "from sklearn.linear_model import Lasso\n",
    "model = Lasso(alpha=0.1, n_jobs=5)\n",
    "model.fit(X_train, Y_train)\n",
    "Y_valid_pred = model.predict(X_valid)\n",
    "rmse = np.sqrt(mean_squared_error(Y_valid, Y_valid_pred))\n",
    "print(\"RMSE: %f\" % (rmse))"
   ]
  },
  {
   "cell_type": "code",
   "execution_count": 6,
   "metadata": {},
   "outputs": [
    {
     "name": "stdout",
     "output_type": "stream",
     "text": [
      "RMSE: 1.816818\n"
     ]
    },
    {
     "name": "stderr",
     "output_type": "stream",
     "text": [
      "/Library/Frameworks/Python.framework/Versions/3.8/lib/python3.8/site-packages/sklearn/linear_model/_coordinate_descent.py:648: ConvergenceWarning: Objective did not converge. You might want to increase the number of iterations, check the scale of the features or consider increasing regularisation. Duality gap: 2.677e+04, tolerance: 6.543e+00\n",
      "  model = cd_fast.enet_coordinate_descent(\n"
     ]
    }
   ],
   "source": [
    "# Fourth regression model\n",
    "# fast 5min\n",
    "from sklearn.linear_model import ElasticNet\n",
    "model = ElasticNet(alpha=0.1)\n",
    "model.fit(X_train, Y_train)\n",
    "Y_valid_pred = model.predict(X_valid)\n",
    "rmse = np.sqrt(mean_squared_error(Y_valid, Y_valid_pred))\n",
    "print(\"RMSE: %f\" % (rmse))"
   ]
  },
  {
   "cell_type": "code",
   "execution_count": null,
   "metadata": {},
   "outputs": [
    {
     "name": "stdout",
     "output_type": "stream",
     "text": [
      "RMSE: 1.747301\n"
     ]
    }
   ],
   "source": [
    "# Fifth regression model, use non-linear model\n",
    "# shit 81 min\n",
    "from sklearn.ensemble import RandomForestRegressor\n",
    "model = RandomForestRegressor(n_estimators=300, max_depth=10, random_state=3612, n_jobs=5)\n",
    "model.fit(X_train, Y_train)\n",
    "Y_valid_pred = model.predict(X_valid)\n",
    "rmse = np.sqrt(mean_squared_error(Y_valid, Y_valid_pred))\n",
    "print(\"RMSE: %f\" % (rmse))"
   ]
  },
  {
   "cell_type": "code",
   "execution_count": null,
   "metadata": {},
   "outputs": [
    {
     "name": "stdout",
     "output_type": "stream",
     "text": [
      "RMSE: 1.761030\n"
     ]
    }
   ],
   "source": [
    "# Sixth regression model, use non-linear model\n",
    "# shit 62min\n",
    "from sklearn.ensemble import GradientBoostingRegressor\n",
    "model = GradientBoostingRegressor(n_estimators=300, max_depth=5, random_state=3612, n_jobs=5)\n",
    "model.fit(X_train, Y_train)\n",
    "Y_valid_pred = model.predict(X_valid)\n",
    "rmse = np.sqrt(mean_squared_error(Y_valid, Y_valid_pred))\n",
    "print(\"RMSE: %f\" % (rmse))"
   ]
  },
  {
   "cell_type": "code",
   "execution_count": null,
   "metadata": {},
   "outputs": [
    {
     "name": "stdout",
     "output_type": "stream",
     "text": [
      "RMSE: 1.962370\n"
     ]
    }
   ],
   "source": [
    "# Seventh regression model, use non-linear model\n",
    "# Fast 3min\n",
    "from sklearn.ensemble import AdaBoostRegressor\n",
    "model = AdaBoostRegressor(n_estimators=300, random_state=3612)\n",
    "model.fit(X_train, Y_train)\n",
    "Y_valid_pred = model.predict(X_valid)\n",
    "rmse = np.sqrt(mean_squared_error(Y_valid, Y_valid_pred))\n",
    "print(\"RMSE: %f\" % (rmse))"
   ]
  },
  {
   "cell_type": "code",
   "execution_count": null,
   "metadata": {},
   "outputs": [
    {
     "name": "stdout",
     "output_type": "stream",
     "text": [
      "RMSE: 1.753345\n"
     ]
    }
   ],
   "source": [
    "# Eighth regression model, use non-linear model\n",
    "# Fast 6min\n",
    "from sklearn.ensemble import ExtraTreesRegressor\n",
    "model = ExtraTreesRegressor(n_estimators=300, max_depth=10, random_state=3612, n_jobs=5)\n",
    "model.fit(X_train, Y_train)\n",
    "Y_valid_pred = model.predict(X_valid)\n",
    "rmse = np.sqrt(mean_squared_error(Y_valid, Y_valid_pred))\n",
    "print(\"RMSE: %f\" % (rmse))"
   ]
  },
  {
   "cell_type": "code",
   "execution_count": null,
   "metadata": {},
   "outputs": [
    {
     "name": "stdout",
     "output_type": "stream",
     "text": [
      "RMSE: 1.750438\n"
     ]
    }
   ],
   "source": [
    "# Ninth regression model, use non-linear model\n",
    "# shit 66min\n",
    "from sklearn.ensemble import BaggingRegressor\n",
    "model = BaggingRegressor(n_estimators=300, random_state=3612, n_jobs=5)\n",
    "model.fit(X_train, Y_train)\n",
    "Y_valid_pred = model.predict(X_valid)\n",
    "rmse = np.sqrt(mean_squared_error(Y_valid, Y_valid_pred)) \n",
    "print(\"RMSE: %f\" % (rmse))"
   ]
  },
  {
   "cell_type": "code",
   "execution_count": null,
   "metadata": {},
   "outputs": [
    {
     "name": "stdout",
     "output_type": "stream",
     "text": [
      "RMSE: 1.841207\n"
     ]
    }
   ],
   "source": [
    "# Tenth regression model, use non-linear model\n",
    "# normal 10min\n",
    "import xgboost as xgb\n",
    "model = xgb.XGBRegressor(n_estimators=300, max_depth=10, random_state=3612, n_jobs=5)\n",
    "model.fit(X_train, Y_train)\n",
    "Y_valid_pred = model.predict(X_valid)\n",
    "rmse = np.sqrt(mean_squared_error(Y_valid, Y_valid_pred))\n",
    "print(\"RMSE: %f\" % (rmse))"
   ]
  },
  {
   "cell_type": "code",
   "execution_count": 9,
   "metadata": {},
   "outputs": [
    {
     "name": "stdout",
     "output_type": "stream",
     "text": [
      "RMSE: 2.668084\n"
     ]
    }
   ],
   "source": [
    "# Eleventh regression model, use non-linear model\n",
    "# KNN1\n",
    "# Fast 5.1s\n",
    "from sklearn.neighbors import KNeighborsRegressor\n",
    "model = KNeighborsRegressor(n_neighbors=1, n_jobs=5)\n",
    "model.fit(X_train, Y_train)\n",
    "Y_valid_pred = model.predict(X_valid)\n",
    "rmse = np.sqrt(mean_squared_error(Y_valid, Y_valid_pred))\n",
    "print(\"RMSE: %f\" % (rmse))"
   ]
  },
  {
   "cell_type": "code",
   "execution_count": 12,
   "metadata": {},
   "outputs": [
    {
     "name": "stdout",
     "output_type": "stream",
     "text": [
      "RMSE: 2.056702\n"
     ]
    }
   ],
   "source": [
    "# Twelveth regression model, use non-linear model\n",
    "# KNN10\n",
    "# Fast 4.5s\n",
    "from sklearn.neighbors import KNeighborsRegressor\n",
    "model = KNeighborsRegressor(n_neighbors=10, n_jobs=5)\n",
    "model.fit(X_train, Y_train)\n",
    "Y_valid_pred = model.predict(X_valid)\n",
    "rmse = np.sqrt(mean_squared_error(Y_valid, Y_valid_pred))\n",
    "print(\"RMSE: %f\" % (rmse))"
   ]
  },
  {
   "cell_type": "code",
   "execution_count": 13,
   "metadata": {},
   "outputs": [
    {
     "name": "stdout",
     "output_type": "stream",
     "text": [
      "RMSE: 2.003364\n"
     ]
    }
   ],
   "source": [
    "# Thirteenth regression model, use non-linear model\n",
    "# KNN100\n",
    "# Fast 3.9s\n",
    "from sklearn.neighbors import KNeighborsRegressor\n",
    "model = KNeighborsRegressor(n_neighbors=100, n_jobs=5)\n",
    "model.fit(X_train, Y_train)\n",
    "Y_valid_pred = model.predict(X_valid)\n",
    "rmse = np.sqrt(mean_squared_error(Y_valid, Y_valid_pred))\n",
    "print(\"RMSE: %f\" % (rmse))"
   ]
  },
  {
   "cell_type": "code",
   "execution_count": 14,
   "metadata": {},
   "outputs": [
    {
     "name": "stdout",
     "output_type": "stream",
     "text": [
      "RMSE: 1.994576\n"
     ]
    }
   ],
   "source": [
    "# Fourteenth regression model, use non-linear model\n",
    "# KNN1000\n",
    "# Fast 5.7s\n",
    "from sklearn.neighbors import KNeighborsRegressor\n",
    "model = KNeighborsRegressor(n_neighbors=1000, n_jobs=5)\n",
    "model.fit(X_train, Y_train)\n",
    "Y_valid_pred = model.predict(X_valid)\n",
    "rmse = np.sqrt(mean_squared_error(Y_valid, Y_valid_pred))\n",
    "print(\"RMSE: %f\" % (rmse))"
   ]
  },
  {
   "cell_type": "code",
   "execution_count": 16,
   "metadata": {},
   "outputs": [
    {
     "name": "stdout",
     "output_type": "stream",
     "text": [
      "RMSE: 1.994970\n"
     ]
    }
   ],
   "source": [
    "# Fifteenth regression model, use non-linear model\n",
    "# KNN10000\n",
    "# Fast 3.9s\n",
    "from sklearn.neighbors import KNeighborsRegressor\n",
    "model = KNeighborsRegressor(n_neighbors=10000, n_jobs=5)\n",
    "model.fit(X_train, Y_train)\n",
    "Y_valid_pred = model.predict(X_valid)\n",
    "rmse = np.sqrt(mean_squared_error(Y_valid, Y_valid_pred))\n",
    "print(\"RMSE: %f\" % (rmse))"
   ]
  },
  {
   "cell_type": "code",
   "execution_count": null,
   "metadata": {},
   "outputs": [
    {
     "name": "stdout",
     "output_type": "stream",
     "text": [
      "RMSE: 1.739007\n"
     ]
    }
   ],
   "source": [
    "# Train X_train and Y_train by Ensemble model on the skewed data\n",
    "from sklearn.ensemble import VotingClassifier\n",
    "# GradientBoostingClassifier\n",
    "from sklearn.ensemble import GradientBoostingClassifier\n",
    "# HistGradientBoostingClassifier\n",
    "from sklearn.ensemble import HistGradientBoostingClassifier\n",
    "# XGBoost\n",
    "import xgboost as xgb\n",
    "\n",
    "model = xgb.XGBRegressor(booster='gbtree', eval_metric='rmse', n_estimators=1000,\n",
    "                            max_depth=3, min_child_weight=4,\n",
    "                            learning_rate=0.04, subsample=0.6, colsample_bytree=1, random_state=3314, n_jobs=5)\n",
    "model.fit(X_train, Y_train)\n",
    "\n",
    "# Valid by X_valid and Y_valid\n",
    "Y_valid_pred = model.predict(X_valid)\n",
    "# Get rmse\n",
    "from sklearn.metrics import mean_squared_error\n",
    "rmse = np.sqrt(mean_squared_error(Y_valid, Y_valid_pred))\n",
    "print(\"RMSE: %f\" % (rmse))"
   ]
  },
  {
   "cell_type": "code",
   "execution_count": null,
   "metadata": {},
   "outputs": [],
   "source": [
    "# if auc < 1.73, output the result by X_test\n",
    "if rmse < 1.73:\n",
    "    Y_test_prob = model.predict(X_test)\n",
    "    index = X_Test.index\n",
    "    output = pd.DataFrame(Y_test_prob, columns=['Predicted'], index=index, dtype=float)\n",
    "    print(output.head())\n",
    "    output.to_csv('output.csv', index_label='Id')"
   ]
  }
 ],
 "metadata": {
  "kernelspec": {
   "display_name": "Python 3.8.10 64-bit",
   "language": "python",
   "name": "python3"
  },
  "language_info": {
   "codemirror_mode": {
    "name": "ipython",
    "version": 3
   },
   "file_extension": ".py",
   "mimetype": "text/x-python",
   "name": "python",
   "nbconvert_exporter": "python",
   "pygments_lexer": "ipython3",
   "version": "3.8.10"
  },
  "orig_nbformat": 4,
  "vscode": {
   "interpreter": {
    "hash": "aee8b7b246df8f9039afb4144a1f6fd8d2ca17a180786b69acc140d282b71a49"
   }
  }
 },
 "nbformat": 4,
 "nbformat_minor": 2
}
