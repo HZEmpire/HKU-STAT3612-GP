{
 "cells": [
  {
   "cell_type": "code",
   "execution_count": 1,
   "metadata": {},
   "outputs": [],
   "source": [
    "import pandas as pd\n",
    "import numpy as np\n",
    "import matplotlib.pyplot as plt\n",
    "import seaborn as sns\n",
    "import os\n",
    "import warnings\n",
    "import sklearn\n",
    "import scipy as sp\n",
    "import statsmodels as sm\n",
    "import statsmodels.api as sm\n",
    "import statsmodels.formula.api as smf\n",
    "import statsmodels.stats.api as sms\n",
    "import torch as t\n",
    "import torch.nn as nn\n",
    "import torch.nn.functional as F\n",
    "import torch.optim as optim\n",
    "import torch.utils.data as data\n",
    "import torchvision as tv\n",
    "import torchvision.transforms as transforms\n",
    "import torchvision.datasets as datasets\n",
    "import torchvision.models as models\n",
    "import torchvision.utils as vutils\n",
    "from sklearn.ensemble import GradientBoostingClassifier\n",
    "from sklearn.metrics import roc_auc_score\n",
    "from sklearn.metrics import roc_curve\n",
    "from sklearn.metrics import auc \n",
    "from sklearn.metrics import confusion_matrix\n",
    "from sklearn.metrics import classification_report\n",
    "from sklearn.metrics import accuracy_score\n",
    "from sklearn.metrics import precision_score\n",
    "from sklearn.metrics import recall_score\n",
    "from sklearn.metrics import f1_score\n",
    "from sklearn.metrics import precision_recall_curve\n",
    "from sklearn.metrics import average_precision_score\n",
    "from sklearn.metrics import log_loss\n",
    "from sklearn.metrics import brier_score_loss"
   ]
  },
  {
   "cell_type": "code",
   "execution_count": 2,
   "metadata": {},
   "outputs": [],
   "source": [
    "# Data are sorted in ./SuperData\n",
    "Train_DataX = pd.read_csv(\"./SuperData/X_train.csv\", index_col=0, header=[0,1,2])\n",
    "Valid_DataX = pd.read_csv(\"./SuperData/X_valid.csv\", index_col=0, header=[0,1,2])\n",
    "X_Test = pd.read_csv('./SuperData/X_test.csv', index_col=0 , header=[0,1,2])\n",
    "Train_DataY = pd.read_csv(\"./task1/Y_train.csv\", index_col=0)\n",
    "Valid_DataY = pd.read_csv(\"./task1/Y_valid.csv\", index_col=0)"
   ]
  },
  {
   "cell_type": "code",
   "execution_count": 3,
   "metadata": {},
   "outputs": [
    {
     "name": "stdout",
     "output_type": "stream",
     "text": [
      "Train_DataX has 16760 rows\n"
     ]
    }
   ],
   "source": [
    "Train_DataX.fillna(0, inplace=True)\n",
    "Valid_DataX.fillna(0, inplace=True)\n",
    "X_Test.fillna(0, inplace=True)\n",
    "# print number of rows in Train_DataX\n",
    "print(\"Train_DataX has\", len(Train_DataX), \"rows\")"
   ]
  },
  {
   "cell_type": "code",
   "execution_count": 4,
   "metadata": {},
   "outputs": [
    {
     "data": {
      "text/plain": [
       "(16760, 7904)"
      ]
     },
     "execution_count": 4,
     "metadata": {},
     "output_type": "execute_result"
    }
   ],
   "source": [
    "# Show size of Train_DataX after dropping columns\n",
    "Train_DataX.shape"
   ]
  },
  {
   "cell_type": "code",
   "execution_count": 5,
   "metadata": {},
   "outputs": [
    {
     "data": {
      "text/html": [
       "<div>\n",
       "<style scoped>\n",
       "    .dataframe tbody tr th:only-of-type {\n",
       "        vertical-align: middle;\n",
       "    }\n",
       "\n",
       "    .dataframe tbody tr th {\n",
       "        vertical-align: top;\n",
       "    }\n",
       "\n",
       "    .dataframe thead tr th {\n",
       "        text-align: left;\n",
       "    }\n",
       "</style>\n",
       "<table border=\"1\" class=\"dataframe\">\n",
       "  <thead>\n",
       "    <tr>\n",
       "      <th>LEVEL2</th>\n",
       "      <th colspan=\"10\" halign=\"left\">alanine aminotransferase</th>\n",
       "      <th>...</th>\n",
       "      <th colspan=\"10\" halign=\"left\">white blood cell count urine</th>\n",
       "    </tr>\n",
       "    <tr>\n",
       "      <th>Aggregation Function</th>\n",
       "      <th colspan=\"10\" halign=\"left\">mask</th>\n",
       "      <th>...</th>\n",
       "      <th colspan=\"10\" halign=\"left\">time_since_measured</th>\n",
       "    </tr>\n",
       "    <tr>\n",
       "      <th>hours_in</th>\n",
       "      <th>0</th>\n",
       "      <th>1</th>\n",
       "      <th>2</th>\n",
       "      <th>3</th>\n",
       "      <th>4</th>\n",
       "      <th>5</th>\n",
       "      <th>6</th>\n",
       "      <th>7</th>\n",
       "      <th>8</th>\n",
       "      <th>9</th>\n",
       "      <th>...</th>\n",
       "      <th>15</th>\n",
       "      <th>16</th>\n",
       "      <th>17</th>\n",
       "      <th>18</th>\n",
       "      <th>19</th>\n",
       "      <th>20</th>\n",
       "      <th>21</th>\n",
       "      <th>22</th>\n",
       "      <th>23</th>\n",
       "      <th>diff</th>\n",
       "    </tr>\n",
       "  </thead>\n",
       "  <tbody>\n",
       "    <tr>\n",
       "      <th>3_145834_211552</th>\n",
       "      <td>1.0</td>\n",
       "      <td>0.0</td>\n",
       "      <td>0.0</td>\n",
       "      <td>0.0</td>\n",
       "      <td>0.0</td>\n",
       "      <td>0.0</td>\n",
       "      <td>0.0</td>\n",
       "      <td>0.0</td>\n",
       "      <td>0.0</td>\n",
       "      <td>0.0</td>\n",
       "      <td>...</td>\n",
       "      <td>7.0</td>\n",
       "      <td>8.0</td>\n",
       "      <td>9.0</td>\n",
       "      <td>10.0</td>\n",
       "      <td>11.0</td>\n",
       "      <td>12.0</td>\n",
       "      <td>13.0</td>\n",
       "      <td>14.0</td>\n",
       "      <td>15.0</td>\n",
       "      <td>100.0</td>\n",
       "    </tr>\n",
       "    <tr>\n",
       "      <th>6_107064_228232</th>\n",
       "      <td>1.0</td>\n",
       "      <td>0.0</td>\n",
       "      <td>0.0</td>\n",
       "      <td>0.0</td>\n",
       "      <td>0.0</td>\n",
       "      <td>0.0</td>\n",
       "      <td>0.0</td>\n",
       "      <td>0.0</td>\n",
       "      <td>0.0</td>\n",
       "      <td>0.0</td>\n",
       "      <td>...</td>\n",
       "      <td>31.0</td>\n",
       "      <td>32.0</td>\n",
       "      <td>33.0</td>\n",
       "      <td>34.0</td>\n",
       "      <td>35.0</td>\n",
       "      <td>36.0</td>\n",
       "      <td>37.0</td>\n",
       "      <td>38.0</td>\n",
       "      <td>39.0</td>\n",
       "      <td>23.0</td>\n",
       "    </tr>\n",
       "    <tr>\n",
       "      <th>9_150750_220597</th>\n",
       "      <td>0.0</td>\n",
       "      <td>0.0</td>\n",
       "      <td>0.0</td>\n",
       "      <td>0.0</td>\n",
       "      <td>0.0</td>\n",
       "      <td>0.0</td>\n",
       "      <td>0.0</td>\n",
       "      <td>0.0</td>\n",
       "      <td>0.0</td>\n",
       "      <td>0.0</td>\n",
       "      <td>...</td>\n",
       "      <td>55.0</td>\n",
       "      <td>56.0</td>\n",
       "      <td>57.0</td>\n",
       "      <td>58.0</td>\n",
       "      <td>59.0</td>\n",
       "      <td>60.0</td>\n",
       "      <td>61.0</td>\n",
       "      <td>62.0</td>\n",
       "      <td>63.0</td>\n",
       "      <td>23.0</td>\n",
       "    </tr>\n",
       "    <tr>\n",
       "      <th>11_194540_229441</th>\n",
       "      <td>0.0</td>\n",
       "      <td>0.0</td>\n",
       "      <td>0.0</td>\n",
       "      <td>0.0</td>\n",
       "      <td>0.0</td>\n",
       "      <td>0.0</td>\n",
       "      <td>0.0</td>\n",
       "      <td>0.0</td>\n",
       "      <td>0.0</td>\n",
       "      <td>0.0</td>\n",
       "      <td>...</td>\n",
       "      <td>79.0</td>\n",
       "      <td>80.0</td>\n",
       "      <td>81.0</td>\n",
       "      <td>82.0</td>\n",
       "      <td>83.0</td>\n",
       "      <td>84.0</td>\n",
       "      <td>85.0</td>\n",
       "      <td>86.0</td>\n",
       "      <td>87.0</td>\n",
       "      <td>23.0</td>\n",
       "    </tr>\n",
       "    <tr>\n",
       "      <th>12_112213_232669</th>\n",
       "      <td>0.0</td>\n",
       "      <td>0.0</td>\n",
       "      <td>0.0</td>\n",
       "      <td>0.0</td>\n",
       "      <td>0.0</td>\n",
       "      <td>0.0</td>\n",
       "      <td>0.0</td>\n",
       "      <td>0.0</td>\n",
       "      <td>0.0</td>\n",
       "      <td>0.0</td>\n",
       "      <td>...</td>\n",
       "      <td>103.0</td>\n",
       "      <td>104.0</td>\n",
       "      <td>105.0</td>\n",
       "      <td>106.0</td>\n",
       "      <td>107.0</td>\n",
       "      <td>108.0</td>\n",
       "      <td>109.0</td>\n",
       "      <td>110.0</td>\n",
       "      <td>111.0</td>\n",
       "      <td>23.0</td>\n",
       "    </tr>\n",
       "  </tbody>\n",
       "</table>\n",
       "<p>5 rows × 7904 columns</p>\n",
       "</div>"
      ],
      "text/plain": [
       "LEVEL2               alanine aminotransferase                                \\\n",
       "Aggregation Function                     mask                                 \n",
       "hours_in                                    0    1    2    3    4    5    6   \n",
       "3_145834_211552                           1.0  0.0  0.0  0.0  0.0  0.0  0.0   \n",
       "6_107064_228232                           1.0  0.0  0.0  0.0  0.0  0.0  0.0   \n",
       "9_150750_220597                           0.0  0.0  0.0  0.0  0.0  0.0  0.0   \n",
       "11_194540_229441                          0.0  0.0  0.0  0.0  0.0  0.0  0.0   \n",
       "12_112213_232669                          0.0  0.0  0.0  0.0  0.0  0.0  0.0   \n",
       "\n",
       "LEVEL2                               ... white blood cell count urine         \\\n",
       "Aggregation Function                 ...          time_since_measured          \n",
       "hours_in                7    8    9  ...                           15     16   \n",
       "3_145834_211552       0.0  0.0  0.0  ...                          7.0    8.0   \n",
       "6_107064_228232       0.0  0.0  0.0  ...                         31.0   32.0   \n",
       "9_150750_220597       0.0  0.0  0.0  ...                         55.0   56.0   \n",
       "11_194540_229441      0.0  0.0  0.0  ...                         79.0   80.0   \n",
       "12_112213_232669      0.0  0.0  0.0  ...                        103.0  104.0   \n",
       "\n",
       "LEVEL2                                                                        \n",
       "Aggregation Function                                                          \n",
       "hours_in                 17     18     19     20     21     22     23   diff  \n",
       "3_145834_211552         9.0   10.0   11.0   12.0   13.0   14.0   15.0  100.0  \n",
       "6_107064_228232        33.0   34.0   35.0   36.0   37.0   38.0   39.0   23.0  \n",
       "9_150750_220597        57.0   58.0   59.0   60.0   61.0   62.0   63.0   23.0  \n",
       "11_194540_229441       81.0   82.0   83.0   84.0   85.0   86.0   87.0   23.0  \n",
       "12_112213_232669      105.0  106.0  107.0  108.0  109.0  110.0  111.0   23.0  \n",
       "\n",
       "[5 rows x 7904 columns]"
      ]
     },
     "execution_count": 5,
     "metadata": {},
     "output_type": "execute_result"
    }
   ],
   "source": [
    "Train_DataX.head()"
   ]
  },
  {
   "cell_type": "code",
   "execution_count": 5,
   "metadata": {},
   "outputs": [],
   "source": [
    "# Shuffle the train data let Y = 0 and Y = 1 have same probability\n",
    "X_Train_0 = Train_DataX[Train_DataY[\"mort_icu\"] == 0]\n",
    "Y_Train_0 = Train_DataY[Train_DataY[\"mort_icu\"] == 0]\n",
    "X_Train_1 = Train_DataX[Train_DataY[\"mort_icu\"] == 1]\n",
    "Y_Train_1 = Train_DataY[Train_DataY[\"mort_icu\"] == 1]\n",
    "\n",
    "from sklearn.utils import shuffle\n",
    "np.random.seed(1234)\n",
    "X_Train_0, Y_Train_0 = shuffle(X_Train_0, Y_Train_0)\n",
    "X_Train_0_use = X_Train_0[:int(len(X_Train_1)*3)]\n",
    "Y_Train_0_use = Y_Train_0[:int(len(Y_Train_1)*3)]\n",
    "X_Train_f = np.concatenate((X_Train_0_use, X_Train_1), axis=0)\n",
    "Y_Train_f = np.concatenate((Y_Train_0_use, Y_Train_1), axis=0)"
   ]
  },
  {
   "cell_type": "code",
   "execution_count": 6,
   "metadata": {},
   "outputs": [],
   "source": [
    "# Change each to numpy array\n",
    "X_train = X_Train_f\n",
    "X_valid = Valid_DataX.to_numpy()\n",
    "X_test = X_Test.to_numpy()\n",
    "Y_train = Y_Train_f\n",
    "Y_valid = Valid_DataY.to_numpy()"
   ]
  },
  {
   "cell_type": "code",
   "execution_count": 8,
   "metadata": {},
   "outputs": [
    {
     "data": {
      "text/plain": [
       "(4900, 7904)"
      ]
     },
     "execution_count": 8,
     "metadata": {},
     "output_type": "execute_result"
    }
   ],
   "source": [
    "X_train.shape"
   ]
  },
  {
   "cell_type": "code",
   "execution_count": 7,
   "metadata": {},
   "outputs": [],
   "source": [
    "Y_train = Y_train.ravel()\n",
    "Y_valid = Y_valid.ravel()"
   ]
  },
  {
   "cell_type": "code",
   "execution_count": 19,
   "metadata": {},
   "outputs": [
    {
     "name": "stdout",
     "output_type": "stream",
     "text": [
      "Accuracy:  0.8776106934001671\n",
      "Precision:  0.21224489795918366\n",
      "Recall:  0.34210526315789475\n",
      "AUC:  0.7351812291656885\n"
     ]
    },
    {
     "name": "stderr",
     "output_type": "stream",
     "text": [
      "/Library/Frameworks/Python.framework/Versions/3.8/lib/python3.8/site-packages/sklearn/linear_model/_logistic.py:444: ConvergenceWarning: lbfgs failed to converge (status=1):\n",
      "STOP: TOTAL NO. of ITERATIONS REACHED LIMIT.\n",
      "\n",
      "Increase the number of iterations (max_iter) or scale the data as shown in:\n",
      "    https://scikit-learn.org/stable/modules/preprocessing.html\n",
      "Please also refer to the documentation for alternative solver options:\n",
      "    https://scikit-learn.org/stable/modules/linear_model.html#logistic-regression\n",
      "  n_iter_i = _check_optimize_result(\n"
     ]
    }
   ],
   "source": [
    "# Logistic Regression\n",
    "# 4 min\n",
    "from sklearn.linear_model import LogisticRegression\n",
    "model = LogisticRegression(max_iter=10000)\n",
    "model.fit(X_train, Y_train)\n",
    "\n",
    "# Valid by X_valid and Y_valid\n",
    "Y_valid_pred = model.predict(X_valid)\n",
    "print(\"Accuracy: \", accuracy_score(Y_valid, Y_valid_pred))\n",
    "print(\"Precision: \", precision_score(Y_valid, Y_valid_pred))\n",
    "print(\"Recall: \", recall_score(Y_valid, Y_valid_pred))\n",
    "\n",
    "Y_valid_prob = model.predict_proba(X_valid)[:,1]\n",
    "print(\"AUC: \", roc_auc_score(Y_valid, Y_valid_prob))"
   ]
  },
  {
   "cell_type": "code",
   "execution_count": 20,
   "metadata": {},
   "outputs": [
    {
     "name": "stdout",
     "output_type": "stream",
     "text": [
      "Accuracy:  0.9365079365079365\n",
      "Precision:  0.0\n",
      "Recall:  0.0\n"
     ]
    },
    {
     "name": "stderr",
     "output_type": "stream",
     "text": [
      "/Library/Frameworks/Python.framework/Versions/3.8/lib/python3.8/site-packages/sklearn/metrics/_classification.py:1334: UndefinedMetricWarning: Precision is ill-defined and being set to 0.0 due to no predicted samples. Use `zero_division` parameter to control this behavior.\n",
      "  _warn_prf(average, modifier, msg_start, len(result))\n"
     ]
    },
    {
     "name": "stdout",
     "output_type": "stream",
     "text": [
      "AUC:  0.552787102680877\n"
     ]
    }
   ],
   "source": [
    "# SVM\n",
    "# 6 min\n",
    "from sklearn.svm import SVC\n",
    "model = SVC(probability=True)\n",
    "model.fit(X_train, Y_train)\n",
    "\n",
    "# Valid by X_valid and Y_valid\n",
    "Y_valid_pred = model.predict(X_valid)\n",
    "print(\"Accuracy: \", accuracy_score(Y_valid, Y_valid_pred))\n",
    "print(\"Precision: \", precision_score(Y_valid, Y_valid_pred))\n",
    "print(\"Recall: \", recall_score(Y_valid, Y_valid_pred))\n",
    "\n",
    "Y_valid_prob = model.predict_proba(X_valid)[:,1]\n",
    "print(\"AUC: \", roc_auc_score(Y_valid, Y_valid_prob))"
   ]
  },
  {
   "cell_type": "code",
   "execution_count": 17,
   "metadata": {},
   "outputs": [
    {
     "name": "stdout",
     "output_type": "stream",
     "text": [
      "Accuracy:  0.9369256474519633\n",
      "Precision:  1.0\n",
      "Recall:  0.006578947368421052\n",
      "AUC:  0.511881426358045\n"
     ]
    }
   ],
   "source": [
    "# KNN 10\n",
    "# 2s\n",
    "from sklearn.neighbors import KNeighborsClassifier\n",
    "model = KNeighborsClassifier(n_neighbors=10)\n",
    "model.fit(X_train, Y_train)\n",
    "\n",
    "# Valid by X_valid and Y_valid\n",
    "Y_valid_pred = model.predict(X_valid)\n",
    "print(\"Accuracy: \", accuracy_score(Y_valid, Y_valid_pred))\n",
    "print(\"Precision: \", precision_score(Y_valid, Y_valid_pred))\n",
    "print(\"Recall: \", recall_score(Y_valid, Y_valid_pred))\n",
    "\n",
    "Y_valid_prob = model.predict_proba(X_valid)[:,1]\n",
    "print(\"AUC: \", roc_auc_score(Y_valid, Y_valid_prob))"
   ]
  },
  {
   "cell_type": "code",
   "execution_count": 21,
   "metadata": {},
   "outputs": [
    {
     "name": "stdout",
     "output_type": "stream",
     "text": [
      "Accuracy:  0.9365079365079365\n",
      "Precision:  0.0\n",
      "Recall:  0.0\n"
     ]
    },
    {
     "name": "stderr",
     "output_type": "stream",
     "text": [
      "/Library/Frameworks/Python.framework/Versions/3.8/lib/python3.8/site-packages/sklearn/metrics/_classification.py:1334: UndefinedMetricWarning: Precision is ill-defined and being set to 0.0 due to no predicted samples. Use `zero_division` parameter to control this behavior.\n",
      "  _warn_prf(average, modifier, msg_start, len(result))\n"
     ]
    },
    {
     "name": "stdout",
     "output_type": "stream",
     "text": [
      "AUC:  0.5306000281703366\n"
     ]
    }
   ],
   "source": [
    "# KNN 100\n",
    "# 2s\n",
    "model = KNeighborsClassifier(n_neighbors=100)\n",
    "model.fit(X_train, Y_train)\n",
    "\n",
    "# Valid by X_valid and Y_valid\n",
    "Y_valid_pred = model.predict(X_valid)\n",
    "print(\"Accuracy: \", accuracy_score(Y_valid, Y_valid_pred))\n",
    "print(\"Precision: \", precision_score(Y_valid, Y_valid_pred))\n",
    "print(\"Recall: \", recall_score(Y_valid, Y_valid_pred))\n",
    "\n",
    "Y_valid_prob = model.predict_proba(X_valid)[:,1]\n",
    "print(\"AUC: \", roc_auc_score(Y_valid, Y_valid_prob))"
   ]
  },
  {
   "cell_type": "code",
   "execution_count": 10,
   "metadata": {},
   "outputs": [
    {
     "name": "stdout",
     "output_type": "stream",
     "text": [
      "Accuracy:  0.9239766081871345\n",
      "Precision:  0.4305555555555556\n",
      "Recall:  0.6118421052631579\n",
      "AUC:  0.9130299544579558\n"
     ]
    }
   ],
   "source": [
    "# Train X_train and Y_train by Ensemble model on the skewed data\n",
    "# 6 min\n",
    "from sklearn.ensemble import VotingClassifier\n",
    "# GradientBoostingClassifier\n",
    "from sklearn.ensemble import GradientBoostingClassifier\n",
    "# HistGradientBoostingClassifier\n",
    "from sklearn.ensemble import HistGradientBoostingClassifier\n",
    "# XGBoost\n",
    "import xgboost as xgb\n",
    "\n",
    "model = xgb.XGBClassifier(n_estimators=1000, max_depth=6, min_child_weight=3, learning_rate=0.04, subsample=0.6, colsample_bytree=1, random_state=3612, eval_metric='auc', n_jobs=5)\n",
    "model.fit(X_train, Y_train)\n",
    "\n",
    "# Valid by X_valid and Y_valid\n",
    "Y_valid_pred = model.predict(X_valid)\n",
    "print(\"Accuracy: \", accuracy_score(Y_valid, Y_valid_pred))\n",
    "print(\"Precision: \", precision_score(Y_valid, Y_valid_pred))\n",
    "print(\"Recall: \", recall_score(Y_valid, Y_valid_pred))\n",
    "\n",
    "Y_valid_prob = model.predict_proba(X_valid)[:,1]\n",
    "print(\"AUC: \", roc_auc_score(Y_valid, Y_valid_prob))"
   ]
  },
  {
   "cell_type": "code",
   "execution_count": 10,
   "metadata": {},
   "outputs": [
    {
     "name": "stdout",
     "output_type": "stream",
     "text": [
      "Accuracy:  0.9273182957393483\n",
      "Precision:  0.4236111111111111\n",
      "Recall:  0.40131578947368424\n",
      "AUC:  0.872875487112071\n"
     ]
    }
   ],
   "source": [
    "# import gradian boosting classifier\n",
    "from sklearn.ensemble import GradientBoostingClassifier\n",
    "\n",
    "model = GradientBoostingClassifier(n_estimators=1000, max_depth=6, min_samples_split=3, learning_rate=0.04, subsample=0.6, random_state=3612)\n",
    "model.fit(X_train, Y_train)\n",
    "\n",
    "# Valid by X_valid and Y_valid\n",
    "Y_valid_pred = model.predict(X_valid)\n",
    "print(\"Accuracy: \", accuracy_score(Y_valid, Y_valid_pred))\n",
    "print(\"Precision: \", precision_score(Y_valid, Y_valid_pred))\n",
    "print(\"Recall: \", recall_score(Y_valid, Y_valid_pred))\n",
    "\n",
    "Y_valid_prob = model.predict_proba(X_valid)[:,1]\n",
    "print(\"AUC: \", roc_auc_score(Y_valid, Y_valid_prob))"
   ]
  },
  {
   "cell_type": "code",
   "execution_count": null,
   "metadata": {},
   "outputs": [
    {
     "name": "stdout",
     "output_type": "stream",
     "text": [
      "Accuracy:  0.9273182957393483\n",
      "Precision:  0.43956043956043955\n",
      "Recall:  0.5263157894736842\n",
      "AUC:  0.8970344851870979\n"
     ]
    }
   ],
   "source": [
    "# HistGradientBoostingClassifier\n",
    "model = HistGradientBoostingClassifier(max_iter=1000, max_depth=6, min_samples_leaf=3, learning_rate=0.04, random_state=3612)\n",
    "model.fit(X_train, Y_train)\n",
    "\n",
    "# Valid by X_valid and Y_valid\n",
    "Y_valid_pred = model.predict(X_valid)\n",
    "print(\"Accuracy: \", accuracy_score(Y_valid, Y_valid_pred))\n",
    "print(\"Precision: \", precision_score(Y_valid, Y_valid_pred))\n",
    "print(\"Recall: \", recall_score(Y_valid, Y_valid_pred))\n",
    "\n",
    "Y_valid_prob = model.predict_proba(X_valid)[:,1]\n",
    "print(\"AUC: \", roc_auc_score(Y_valid, Y_valid_prob))"
   ]
  },
  {
   "cell_type": "code",
   "execution_count": null,
   "metadata": {},
   "outputs": [
    {
     "name": "stdout",
     "output_type": "stream",
     "text": [
      "Accuracy:  0.9206349206349206\n",
      "Precision:  0.4010416666666667\n",
      "Recall:  0.506578947368421\n",
      "AUC:  0.881534931217428\n"
     ]
    }
   ],
   "source": [
    "# XGBRFClassifier\n",
    "model = xgb.XGBRFClassifier(n_estimators=1000, max_depth=6, min_child_weight=3, learning_rate=0.04, subsample=0.6, colsample_bytree=1, random_state=3612, eval_metric='auc', n_jobs=5)\n",
    "model.fit(X_train, Y_train)\n",
    "\n",
    "# Valid by X_valid and Y_valid\n",
    "Y_valid_pred = model.predict(X_valid)\n",
    "print(\"Accuracy: \", accuracy_score(Y_valid, Y_valid_pred))\n",
    "print(\"Precision: \", precision_score(Y_valid, Y_valid_pred))\n",
    "print(\"Recall: \", recall_score(Y_valid, Y_valid_pred))\n",
    "\n",
    "Y_valid_prob = model.predict_proba(X_valid)[:,1]\n",
    "print(\"AUC: \", roc_auc_score(Y_valid, Y_valid_prob))"
   ]
  },
  {
   "cell_type": "code",
   "execution_count": null,
   "metadata": {},
   "outputs": [
    {
     "name": "stdout",
     "output_type": "stream",
     "text": [
      "Accuracy:  0.9223057644110275\n",
      "Precision:  0.41904761904761906\n",
      "Recall:  0.5789473684210527\n",
      "AUC:  0.9071053805342973\n"
     ]
    }
   ],
   "source": [
    "# AdaBoostClassifier\n",
    "from sklearn.ensemble import AdaBoostClassifier\n",
    "model = AdaBoostClassifier(n_estimators=1000, learning_rate=0.04, random_state=3612)\n",
    "model.fit(X_train, Y_train)\n",
    "\n",
    "# Valid by X_valid and Y_valid\n",
    "Y_valid_pred = model.predict(X_valid)\n",
    "print(\"Accuracy: \", accuracy_score(Y_valid, Y_valid_pred))\n",
    "print(\"Precision: \", precision_score(Y_valid, Y_valid_pred))\n",
    "print(\"Recall: \", recall_score(Y_valid, Y_valid_pred))\n",
    "\n",
    "Y_valid_prob = model.predict_proba(X_valid)[:,1]\n",
    "print(\"AUC: \", roc_auc_score(Y_valid, Y_valid_prob))"
   ]
  },
  {
   "cell_type": "code",
   "execution_count": null,
   "metadata": {},
   "outputs": [
    {
     "name": "stdout",
     "output_type": "stream",
     "text": [
      "Accuracy:  0.9273182957393483\n",
      "Precision:  0.4236111111111111\n",
      "Recall:  0.40131578947368424\n",
      "AUC:  0.872875487112071\n"
     ]
    }
   ],
   "source": [
    "# RandomForestClassifier\n",
    "from sklearn.ensemble import RandomForestClassifier\n",
    "model = RandomForestClassifier(n_estimators=1000, max_depth=6, min_samples_split=3, random_state=3612, n_jobs=5)\n",
    "model.fit(X_train, Y_train)\n",
    "\n",
    "# Valid by X_valid and Y_valid\n",
    "Y_valid_pred = model.predict(X_valid)\n",
    "print(\"Accuracy: \", accuracy_score(Y_valid, Y_valid_pred))\n",
    "print(\"Precision: \", precision_score(Y_valid, Y_valid_pred))\n",
    "print(\"Recall: \", recall_score(Y_valid, Y_valid_pred))\n",
    "\n",
    "Y_valid_prob = model.predict_proba(X_valid)[:,1]\n",
    "print(\"AUC: \", roc_auc_score(Y_valid, Y_valid_prob))"
   ]
  },
  {
   "cell_type": "code",
   "execution_count": null,
   "metadata": {},
   "outputs": [],
   "source": [
    "# QuadraticDiscriminantAnalysis\n",
    "from sklearn.discriminant_analysis import QuadraticDiscriminantAnalysis\n",
    "model = QuadraticDiscriminantAnalysis()\n",
    "model.fit(X_train, Y_train)\n",
    "\n",
    "# Valid by X_valid and Y_valid\n",
    "Y_valid_pred = model.predict(X_valid)\n",
    "print(\"Accuracy: \", accuracy_score(Y_valid, Y_valid_pred))\n",
    "print(\"Precision: \", precision_score(Y_valid, Y_valid_pred))\n",
    "print(\"Recall: \", recall_score(Y_valid, Y_valid_pred))\n",
    "\n",
    "Y_valid_prob = model.predict_proba(X_valid)[:,1]\n",
    "print(\"AUC: \", roc_auc_score(Y_valid, Y_valid_prob))"
   ]
  },
  {
   "cell_type": "code",
   "execution_count": 17,
   "metadata": {},
   "outputs": [
    {
     "data": {
      "text/plain": [
       "array([0, 0, 0, ..., 0, 0, 0])"
      ]
     },
     "execution_count": 17,
     "metadata": {},
     "output_type": "execute_result"
    }
   ],
   "source": [
    "Y_valid_pred"
   ]
  },
  {
   "cell_type": "code",
   "execution_count": 18,
   "metadata": {},
   "outputs": [
    {
     "name": "stdout",
     "output_type": "stream",
     "text": [
      "Y_valid_pred has 237 1s\n"
     ]
    }
   ],
   "source": [
    "# Count number of 1 in Y_valid_pred\n",
    "print(\"Y_valid_pred has\", sum(Y_valid_pred), \"1s\")"
   ]
  },
  {
   "cell_type": "code",
   "execution_count": 19,
   "metadata": {},
   "outputs": [
    {
     "data": {
      "text/plain": [
       "array([0, 0, 0, ..., 1, 0, 0])"
      ]
     },
     "execution_count": 19,
     "metadata": {},
     "output_type": "execute_result"
    }
   ],
   "source": [
    "Y_valid"
   ]
  },
  {
   "cell_type": "code",
   "execution_count": 20,
   "metadata": {},
   "outputs": [
    {
     "name": "stdout",
     "output_type": "stream",
     "text": [
      "Y_valid has 152 1s\n"
     ]
    }
   ],
   "source": [
    "# Count number of 1 in Y_valid\n",
    "print(\"Y_valid has\", sum(Y_valid), \"1s\")"
   ]
  },
  {
   "cell_type": "code",
   "execution_count": 21,
   "metadata": {},
   "outputs": [
    {
     "name": "stdout",
     "output_type": "stream",
     "text": [
      "[[2024  218]\n",
      " [ 133   19]]\n"
     ]
    }
   ],
   "source": [
    "# Show the confusion matrix\n",
    "cm = confusion_matrix(Y_valid, Y_valid_pred)\n",
    "print(cm)"
   ]
  },
  {
   "cell_type": "code",
   "execution_count": 22,
   "metadata": {},
   "outputs": [
    {
     "data": {
      "image/png": "[encoded data removed]",
      "text/plain": [
       "<Figure size 640x480 with 1 Axes>"
      ]
     },
     "metadata": {},
     "output_type": "display_data"
    },
    {
     "name": "stdout",
     "output_type": "stream",
     "text": [
      "AUC:  0.5138826940231936\n"
     ]
    }
   ],
   "source": [
    "# Plot the roc curve\n",
    "fpr, tpr, thresholds = roc_curve(Y_valid, Y_valid_prob)\n",
    "roc_auc = auc(fpr, tpr)\n",
    "plt.figure()\n",
    "lw = 2\n",
    "plt.plot(fpr, tpr, color='darkorange', lw=lw, label='ROC curve (area = %0.2f)' % roc_auc)\n",
    "plt.plot([0, 1], [0, 1], color='navy', lw=lw, linestyle='--')\n",
    "plt.xlim([0.0, 1.0])\n",
    "plt.ylim([0.0, 1.05])\n",
    "plt.xlabel('False Positive Rate')\n",
    "plt.ylabel('True Positive Rate')\n",
    "plt.title('Receiver operating characteristic')\n",
    "plt.legend(loc=\"lower right\")\n",
    "plt.show()\n",
    "print(\"AUC: \", roc_auc)"
   ]
  },
  {
   "cell_type": "code",
   "execution_count": 23,
   "metadata": {},
   "outputs": [],
   "source": [
    "# if auc > 0.90, output the result by X_test\n",
    "if roc_auc > 0.90:\n",
    "    Y_test_prob = model.predict_proba(X_test)[:,1]\n",
    "    index = X_Test.index\n",
    "    output = pd.DataFrame(Y_test_prob, columns=['Predicted'], index=index, dtype=float)\n",
    "    print(output.head())\n",
    "    output.to_csv('output.csv', index_label='Id')"
   ]
  }
 ],
 "metadata": {
  "kernelspec": {
   "display_name": "Python 3.8.10 64-bit",
   "language": "python",
   "name": "python3"
  },
  "language_info": {
   "codemirror_mode": {
    "name": "ipython",
    "version": 3
   },
   "file_extension": ".py",
   "mimetype": "text/x-python",
   "name": "python",
   "nbconvert_exporter": "python",
   "pygments_lexer": "ipython3",
   "version": "3.8.10"
  },
  "orig_nbformat": 4,
  "vscode": {
   "interpreter": {
    "hash": "aee8b7b246df8f9039afb4144a1f6fd8d2ca17a180786b69acc140d282b71a49"
   }
  }
 },
 "nbformat": 4,
 "nbformat_minor": 2
}
